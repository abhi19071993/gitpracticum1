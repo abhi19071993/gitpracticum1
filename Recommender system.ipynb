{
 "cells": [
  {
   "cell_type": "code",
   "execution_count": 1,
   "metadata": {
    "collapsed": true
   },
   "outputs": [],
   "source": [
    "import pandas as pd\n",
    "import numpy as np\n",
    "import graphlab as gl\n",
    "from matplotlib import pyplot as plt\n",
    "from matplotlib import style\n",
    "style.use('ggplot')\n",
    "%matplotlib inline"
   ]
  },
  {
   "cell_type": "code",
   "execution_count": 16,
   "metadata": {
    "collapsed": true
   },
   "outputs": [],
   "source": [
    "df = pd.read_json('Electronics.json', lines='TRUE')"
   ]
  },
  {
   "cell_type": "code",
   "execution_count": 19,
   "metadata": {
    "collapsed": false
   },
   "outputs": [],
   "source": [
    "df.rename(columns = {'asin':'productID'}, inplace=True)\n",
    "df.rename(columns = {'reviewerID':'user_id'}, inplace=True)"
   ]
  },
  {
   "cell_type": "code",
   "execution_count": 21,
   "metadata": {
    "collapsed": false
   },
   "outputs": [
    {
     "data": {
      "text/html": [
       "<div>\n",
       "<style scoped>\n",
       "    .dataframe tbody tr th:only-of-type {\n",
       "        vertical-align: middle;\n",
       "    }\n",
       "\n",
       "    .dataframe tbody tr th {\n",
       "        vertical-align: top;\n",
       "    }\n",
       "\n",
       "    .dataframe thead th {\n",
       "        text-align: right;\n",
       "    }\n",
       "</style>\n",
       "<table border=\"1\" class=\"dataframe\">\n",
       "  <thead>\n",
       "    <tr style=\"text-align: right;\">\n",
       "      <th></th>\n",
       "      <th>productID</th>\n",
       "      <th>helpful</th>\n",
       "      <th>overall</th>\n",
       "      <th>reviewText</th>\n",
       "      <th>reviewTime</th>\n",
       "      <th>user_id</th>\n",
       "      <th>reviewerName</th>\n",
       "      <th>summary</th>\n",
       "      <th>unixReviewTime</th>\n",
       "    </tr>\n",
       "  </thead>\n",
       "  <tbody>\n",
       "    <tr>\n",
       "      <th>0</th>\n",
       "      <td>0528881469</td>\n",
       "      <td>[0, 0]</td>\n",
       "      <td>5</td>\n",
       "      <td>We got this GPS for my husband who is an (OTR)...</td>\n",
       "      <td>06 2, 2013</td>\n",
       "      <td>AO94DHGC771SJ</td>\n",
       "      <td>amazdnu</td>\n",
       "      <td>Gotta have GPS!</td>\n",
       "      <td>1370131200</td>\n",
       "    </tr>\n",
       "    <tr>\n",
       "      <th>1</th>\n",
       "      <td>0528881469</td>\n",
       "      <td>[12, 15]</td>\n",
       "      <td>1</td>\n",
       "      <td>I'm a professional OTR truck driver, and I bou...</td>\n",
       "      <td>11 25, 2010</td>\n",
       "      <td>AMO214LNFCEI4</td>\n",
       "      <td>Amazon Customer</td>\n",
       "      <td>Very Disappointed</td>\n",
       "      <td>1290643200</td>\n",
       "    </tr>\n",
       "    <tr>\n",
       "      <th>2</th>\n",
       "      <td>0528881469</td>\n",
       "      <td>[43, 45]</td>\n",
       "      <td>3</td>\n",
       "      <td>Well, what can I say.  I've had this unit in m...</td>\n",
       "      <td>09 9, 2010</td>\n",
       "      <td>A3N7T0DY83Y4IG</td>\n",
       "      <td>C. A. Freeman</td>\n",
       "      <td>1st impression</td>\n",
       "      <td>1283990400</td>\n",
       "    </tr>\n",
       "    <tr>\n",
       "      <th>3</th>\n",
       "      <td>0528881469</td>\n",
       "      <td>[9, 10]</td>\n",
       "      <td>2</td>\n",
       "      <td>Not going to write a long review, even thought...</td>\n",
       "      <td>11 24, 2010</td>\n",
       "      <td>A1H8PY3QHMQQA0</td>\n",
       "      <td>Dave M. Shaw \"mack dave\"</td>\n",
       "      <td>Great grafics, POOR GPS</td>\n",
       "      <td>1290556800</td>\n",
       "    </tr>\n",
       "    <tr>\n",
       "      <th>4</th>\n",
       "      <td>0528881469</td>\n",
       "      <td>[0, 0]</td>\n",
       "      <td>1</td>\n",
       "      <td>I've had mine for a year and here's what we go...</td>\n",
       "      <td>09 29, 2011</td>\n",
       "      <td>A24EV6RXELQZ63</td>\n",
       "      <td>Wayne Smith</td>\n",
       "      <td>Major issues, only excuses for support</td>\n",
       "      <td>1317254400</td>\n",
       "    </tr>\n",
       "  </tbody>\n",
       "</table>\n",
       "</div>"
      ],
      "text/plain": [
       "    productID   helpful  overall  \\\n",
       "0  0528881469    [0, 0]        5   \n",
       "1  0528881469  [12, 15]        1   \n",
       "2  0528881469  [43, 45]        3   \n",
       "3  0528881469   [9, 10]        2   \n",
       "4  0528881469    [0, 0]        1   \n",
       "\n",
       "                                          reviewText   reviewTime  \\\n",
       "0  We got this GPS for my husband who is an (OTR)...   06 2, 2013   \n",
       "1  I'm a professional OTR truck driver, and I bou...  11 25, 2010   \n",
       "2  Well, what can I say.  I've had this unit in m...   09 9, 2010   \n",
       "3  Not going to write a long review, even thought...  11 24, 2010   \n",
       "4  I've had mine for a year and here's what we go...  09 29, 2011   \n",
       "\n",
       "          user_id              reviewerName  \\\n",
       "0   AO94DHGC771SJ                   amazdnu   \n",
       "1   AMO214LNFCEI4           Amazon Customer   \n",
       "2  A3N7T0DY83Y4IG             C. A. Freeman   \n",
       "3  A1H8PY3QHMQQA0  Dave M. Shaw \"mack dave\"   \n",
       "4  A24EV6RXELQZ63               Wayne Smith   \n",
       "\n",
       "                                  summary  unixReviewTime  \n",
       "0                         Gotta have GPS!      1370131200  \n",
       "1                       Very Disappointed      1290643200  \n",
       "2                          1st impression      1283990400  \n",
       "3                 Great grafics, POOR GPS      1290556800  \n",
       "4  Major issues, only excuses for support      1317254400  "
      ]
     },
     "execution_count": 21,
     "metadata": {},
     "output_type": "execute_result"
    }
   ],
   "source": [
    "df.head()"
   ]
  },
  {
   "cell_type": "code",
   "execution_count": 24,
   "metadata": {
    "collapsed": false
   },
   "outputs": [],
   "source": [
    "df_ab = df[1:100000].copy()"
   ]
  },
  {
   "cell_type": "code",
   "execution_count": 25,
   "metadata": {
    "collapsed": false
   },
   "outputs": [
    {
     "data": {
      "text/html": [
       "<div>\n",
       "<style scoped>\n",
       "    .dataframe tbody tr th:only-of-type {\n",
       "        vertical-align: middle;\n",
       "    }\n",
       "\n",
       "    .dataframe tbody tr th {\n",
       "        vertical-align: top;\n",
       "    }\n",
       "\n",
       "    .dataframe thead th {\n",
       "        text-align: right;\n",
       "    }\n",
       "</style>\n",
       "<table border=\"1\" class=\"dataframe\">\n",
       "  <thead>\n",
       "    <tr style=\"text-align: right;\">\n",
       "      <th></th>\n",
       "      <th>productID</th>\n",
       "      <th>helpful</th>\n",
       "      <th>overall</th>\n",
       "      <th>reviewText</th>\n",
       "      <th>reviewTime</th>\n",
       "      <th>user_id</th>\n",
       "      <th>reviewerName</th>\n",
       "      <th>summary</th>\n",
       "      <th>unixReviewTime</th>\n",
       "    </tr>\n",
       "  </thead>\n",
       "  <tbody>\n",
       "    <tr>\n",
       "      <th>1</th>\n",
       "      <td>0528881469</td>\n",
       "      <td>[12, 15]</td>\n",
       "      <td>1</td>\n",
       "      <td>I'm a professional OTR truck driver, and I bou...</td>\n",
       "      <td>11 25, 2010</td>\n",
       "      <td>AMO214LNFCEI4</td>\n",
       "      <td>Amazon Customer</td>\n",
       "      <td>Very Disappointed</td>\n",
       "      <td>1290643200</td>\n",
       "    </tr>\n",
       "    <tr>\n",
       "      <th>2</th>\n",
       "      <td>0528881469</td>\n",
       "      <td>[43, 45]</td>\n",
       "      <td>3</td>\n",
       "      <td>Well, what can I say.  I've had this unit in m...</td>\n",
       "      <td>09 9, 2010</td>\n",
       "      <td>A3N7T0DY83Y4IG</td>\n",
       "      <td>C. A. Freeman</td>\n",
       "      <td>1st impression</td>\n",
       "      <td>1283990400</td>\n",
       "    </tr>\n",
       "    <tr>\n",
       "      <th>3</th>\n",
       "      <td>0528881469</td>\n",
       "      <td>[9, 10]</td>\n",
       "      <td>2</td>\n",
       "      <td>Not going to write a long review, even thought...</td>\n",
       "      <td>11 24, 2010</td>\n",
       "      <td>A1H8PY3QHMQQA0</td>\n",
       "      <td>Dave M. Shaw \"mack dave\"</td>\n",
       "      <td>Great grafics, POOR GPS</td>\n",
       "      <td>1290556800</td>\n",
       "    </tr>\n",
       "    <tr>\n",
       "      <th>4</th>\n",
       "      <td>0528881469</td>\n",
       "      <td>[0, 0]</td>\n",
       "      <td>1</td>\n",
       "      <td>I've had mine for a year and here's what we go...</td>\n",
       "      <td>09 29, 2011</td>\n",
       "      <td>A24EV6RXELQZ63</td>\n",
       "      <td>Wayne Smith</td>\n",
       "      <td>Major issues, only excuses for support</td>\n",
       "      <td>1317254400</td>\n",
       "    </tr>\n",
       "    <tr>\n",
       "      <th>5</th>\n",
       "      <td>0594451647</td>\n",
       "      <td>[3, 3]</td>\n",
       "      <td>5</td>\n",
       "      <td>I am using this with a Nook HD+. It works as d...</td>\n",
       "      <td>01 3, 2014</td>\n",
       "      <td>A2JXAZZI9PHK9Z</td>\n",
       "      <td>Billy G. Noland \"Bill Noland\"</td>\n",
       "      <td>HDMI Nook adapter cable</td>\n",
       "      <td>1388707200</td>\n",
       "    </tr>\n",
       "  </tbody>\n",
       "</table>\n",
       "</div>"
      ],
      "text/plain": [
       "    productID   helpful  overall  \\\n",
       "1  0528881469  [12, 15]        1   \n",
       "2  0528881469  [43, 45]        3   \n",
       "3  0528881469   [9, 10]        2   \n",
       "4  0528881469    [0, 0]        1   \n",
       "5  0594451647    [3, 3]        5   \n",
       "\n",
       "                                          reviewText   reviewTime  \\\n",
       "1  I'm a professional OTR truck driver, and I bou...  11 25, 2010   \n",
       "2  Well, what can I say.  I've had this unit in m...   09 9, 2010   \n",
       "3  Not going to write a long review, even thought...  11 24, 2010   \n",
       "4  I've had mine for a year and here's what we go...  09 29, 2011   \n",
       "5  I am using this with a Nook HD+. It works as d...   01 3, 2014   \n",
       "\n",
       "          user_id                   reviewerName  \\\n",
       "1   AMO214LNFCEI4                Amazon Customer   \n",
       "2  A3N7T0DY83Y4IG                  C. A. Freeman   \n",
       "3  A1H8PY3QHMQQA0       Dave M. Shaw \"mack dave\"   \n",
       "4  A24EV6RXELQZ63                    Wayne Smith   \n",
       "5  A2JXAZZI9PHK9Z  Billy G. Noland \"Bill Noland\"   \n",
       "\n",
       "                                  summary  unixReviewTime  \n",
       "1                       Very Disappointed      1290643200  \n",
       "2                          1st impression      1283990400  \n",
       "3                 Great grafics, POOR GPS      1290556800  \n",
       "4  Major issues, only excuses for support      1317254400  \n",
       "5                 HDMI Nook adapter cable      1388707200  "
      ]
     },
     "execution_count": 25,
     "metadata": {},
     "output_type": "execute_result"
    }
   ],
   "source": [
    "df_ab.head()"
   ]
  },
  {
   "cell_type": "code",
   "execution_count": 26,
   "metadata": {
    "collapsed": true
   },
   "outputs": [],
   "source": [
    "df_ab_sent = df_ab[['user_id','productID','overall','reviewText']]"
   ]
  },
  {
   "cell_type": "code",
   "execution_count": 27,
   "metadata": {
    "collapsed": false
   },
   "outputs": [
    {
     "data": {
      "text/html": [
       "<div>\n",
       "<style scoped>\n",
       "    .dataframe tbody tr th:only-of-type {\n",
       "        vertical-align: middle;\n",
       "    }\n",
       "\n",
       "    .dataframe tbody tr th {\n",
       "        vertical-align: top;\n",
       "    }\n",
       "\n",
       "    .dataframe thead th {\n",
       "        text-align: right;\n",
       "    }\n",
       "</style>\n",
       "<table border=\"1\" class=\"dataframe\">\n",
       "  <thead>\n",
       "    <tr style=\"text-align: right;\">\n",
       "      <th></th>\n",
       "      <th>user_id</th>\n",
       "      <th>productID</th>\n",
       "      <th>overall</th>\n",
       "      <th>reviewText</th>\n",
       "    </tr>\n",
       "  </thead>\n",
       "  <tbody>\n",
       "    <tr>\n",
       "      <th>1</th>\n",
       "      <td>AMO214LNFCEI4</td>\n",
       "      <td>0528881469</td>\n",
       "      <td>1</td>\n",
       "      <td>I'm a professional OTR truck driver, and I bou...</td>\n",
       "    </tr>\n",
       "    <tr>\n",
       "      <th>2</th>\n",
       "      <td>A3N7T0DY83Y4IG</td>\n",
       "      <td>0528881469</td>\n",
       "      <td>3</td>\n",
       "      <td>Well, what can I say.  I've had this unit in m...</td>\n",
       "    </tr>\n",
       "    <tr>\n",
       "      <th>3</th>\n",
       "      <td>A1H8PY3QHMQQA0</td>\n",
       "      <td>0528881469</td>\n",
       "      <td>2</td>\n",
       "      <td>Not going to write a long review, even thought...</td>\n",
       "    </tr>\n",
       "    <tr>\n",
       "      <th>4</th>\n",
       "      <td>A24EV6RXELQZ63</td>\n",
       "      <td>0528881469</td>\n",
       "      <td>1</td>\n",
       "      <td>I've had mine for a year and here's what we go...</td>\n",
       "    </tr>\n",
       "    <tr>\n",
       "      <th>5</th>\n",
       "      <td>A2JXAZZI9PHK9Z</td>\n",
       "      <td>0594451647</td>\n",
       "      <td>5</td>\n",
       "      <td>I am using this with a Nook HD+. It works as d...</td>\n",
       "    </tr>\n",
       "  </tbody>\n",
       "</table>\n",
       "</div>"
      ],
      "text/plain": [
       "          user_id   productID  overall  \\\n",
       "1   AMO214LNFCEI4  0528881469        1   \n",
       "2  A3N7T0DY83Y4IG  0528881469        3   \n",
       "3  A1H8PY3QHMQQA0  0528881469        2   \n",
       "4  A24EV6RXELQZ63  0528881469        1   \n",
       "5  A2JXAZZI9PHK9Z  0594451647        5   \n",
       "\n",
       "                                          reviewText  \n",
       "1  I'm a professional OTR truck driver, and I bou...  \n",
       "2  Well, what can I say.  I've had this unit in m...  \n",
       "3  Not going to write a long review, even thought...  \n",
       "4  I've had mine for a year and here's what we go...  \n",
       "5  I am using this with a Nook HD+. It works as d...  "
      ]
     },
     "execution_count": 27,
     "metadata": {},
     "output_type": "execute_result"
    }
   ],
   "source": [
    "df_ab_sent.head()"
   ]
  },
  {
   "cell_type": "markdown",
   "metadata": {},
   "source": [
    "The above dataframe df_ab_sent will be used to do sentiment analysis"
   ]
  },
  {
   "cell_type": "code",
   "execution_count": 28,
   "metadata": {
    "collapsed": true
   },
   "outputs": [],
   "source": [
    "df_ab_model = df_ab[['user_id','productID','overall']]"
   ]
  },
  {
   "cell_type": "code",
   "execution_count": 29,
   "metadata": {
    "collapsed": false
   },
   "outputs": [
    {
     "data": {
      "text/html": [
       "<div>\n",
       "<style scoped>\n",
       "    .dataframe tbody tr th:only-of-type {\n",
       "        vertical-align: middle;\n",
       "    }\n",
       "\n",
       "    .dataframe tbody tr th {\n",
       "        vertical-align: top;\n",
       "    }\n",
       "\n",
       "    .dataframe thead th {\n",
       "        text-align: right;\n",
       "    }\n",
       "</style>\n",
       "<table border=\"1\" class=\"dataframe\">\n",
       "  <thead>\n",
       "    <tr style=\"text-align: right;\">\n",
       "      <th></th>\n",
       "      <th>user_id</th>\n",
       "      <th>productID</th>\n",
       "      <th>overall</th>\n",
       "    </tr>\n",
       "  </thead>\n",
       "  <tbody>\n",
       "    <tr>\n",
       "      <th>1</th>\n",
       "      <td>AMO214LNFCEI4</td>\n",
       "      <td>0528881469</td>\n",
       "      <td>1</td>\n",
       "    </tr>\n",
       "    <tr>\n",
       "      <th>2</th>\n",
       "      <td>A3N7T0DY83Y4IG</td>\n",
       "      <td>0528881469</td>\n",
       "      <td>3</td>\n",
       "    </tr>\n",
       "    <tr>\n",
       "      <th>3</th>\n",
       "      <td>A1H8PY3QHMQQA0</td>\n",
       "      <td>0528881469</td>\n",
       "      <td>2</td>\n",
       "    </tr>\n",
       "    <tr>\n",
       "      <th>4</th>\n",
       "      <td>A24EV6RXELQZ63</td>\n",
       "      <td>0528881469</td>\n",
       "      <td>1</td>\n",
       "    </tr>\n",
       "    <tr>\n",
       "      <th>5</th>\n",
       "      <td>A2JXAZZI9PHK9Z</td>\n",
       "      <td>0594451647</td>\n",
       "      <td>5</td>\n",
       "    </tr>\n",
       "  </tbody>\n",
       "</table>\n",
       "</div>"
      ],
      "text/plain": [
       "          user_id   productID  overall\n",
       "1   AMO214LNFCEI4  0528881469        1\n",
       "2  A3N7T0DY83Y4IG  0528881469        3\n",
       "3  A1H8PY3QHMQQA0  0528881469        2\n",
       "4  A24EV6RXELQZ63  0528881469        1\n",
       "5  A2JXAZZI9PHK9Z  0594451647        5"
      ]
     },
     "execution_count": 29,
     "metadata": {},
     "output_type": "execute_result"
    }
   ],
   "source": [
    "df_ab_model.head()"
   ]
  },
  {
   "cell_type": "markdown",
   "metadata": {},
   "source": [
    "The dataframe df_ab_model is used to build the recommender system."
   ]
  },
  {
   "cell_type": "code",
   "execution_count": 30,
   "metadata": {
    "collapsed": true
   },
   "outputs": [],
   "source": [
    "sf_sent = gl.SFrame(df_ab_sent)"
   ]
  },
  {
   "cell_type": "code",
   "execution_count": 31,
   "metadata": {
    "collapsed": false
   },
   "outputs": [
    {
     "data": {
      "text/html": [
       "<div style=\"max-height:1000px;max-width:1500px;overflow:auto;\"><table frame=\"box\" rules=\"cols\">\n",
       "    <tr>\n",
       "        <th style=\"padding-left: 1em; padding-right: 1em; text-align: center\">user_id</th>\n",
       "        <th style=\"padding-left: 1em; padding-right: 1em; text-align: center\">productID</th>\n",
       "        <th style=\"padding-left: 1em; padding-right: 1em; text-align: center\">overall</th>\n",
       "        <th style=\"padding-left: 1em; padding-right: 1em; text-align: center\">reviewText</th>\n",
       "    </tr>\n",
       "    <tr>\n",
       "        <td style=\"padding-left: 1em; padding-right: 1em; text-align: center; vertical-align: top\">AMO214LNFCEI4</td>\n",
       "        <td style=\"padding-left: 1em; padding-right: 1em; text-align: center; vertical-align: top\">0528881469</td>\n",
       "        <td style=\"padding-left: 1em; padding-right: 1em; text-align: center; vertical-align: top\">1</td>\n",
       "        <td style=\"padding-left: 1em; padding-right: 1em; text-align: center; vertical-align: top\">I'm a professional OTR<br>truck driver, and I ...</td>\n",
       "    </tr>\n",
       "    <tr>\n",
       "        <td style=\"padding-left: 1em; padding-right: 1em; text-align: center; vertical-align: top\">A3N7T0DY83Y4IG</td>\n",
       "        <td style=\"padding-left: 1em; padding-right: 1em; text-align: center; vertical-align: top\">0528881469</td>\n",
       "        <td style=\"padding-left: 1em; padding-right: 1em; text-align: center; vertical-align: top\">3</td>\n",
       "        <td style=\"padding-left: 1em; padding-right: 1em; text-align: center; vertical-align: top\">Well, what can I say.<br>I've had this unit in my ...</td>\n",
       "    </tr>\n",
       "    <tr>\n",
       "        <td style=\"padding-left: 1em; padding-right: 1em; text-align: center; vertical-align: top\">A1H8PY3QHMQQA0</td>\n",
       "        <td style=\"padding-left: 1em; padding-right: 1em; text-align: center; vertical-align: top\">0528881469</td>\n",
       "        <td style=\"padding-left: 1em; padding-right: 1em; text-align: center; vertical-align: top\">2</td>\n",
       "        <td style=\"padding-left: 1em; padding-right: 1em; text-align: center; vertical-align: top\">Not going to write a long<br>review, even thought  ...</td>\n",
       "    </tr>\n",
       "    <tr>\n",
       "        <td style=\"padding-left: 1em; padding-right: 1em; text-align: center; vertical-align: top\">A24EV6RXELQZ63</td>\n",
       "        <td style=\"padding-left: 1em; padding-right: 1em; text-align: center; vertical-align: top\">0528881469</td>\n",
       "        <td style=\"padding-left: 1em; padding-right: 1em; text-align: center; vertical-align: top\">1</td>\n",
       "        <td style=\"padding-left: 1em; padding-right: 1em; text-align: center; vertical-align: top\">I've had mine for a year<br>and here's what we got. ...</td>\n",
       "    </tr>\n",
       "    <tr>\n",
       "        <td style=\"padding-left: 1em; padding-right: 1em; text-align: center; vertical-align: top\">A2JXAZZI9PHK9Z</td>\n",
       "        <td style=\"padding-left: 1em; padding-right: 1em; text-align: center; vertical-align: top\">0594451647</td>\n",
       "        <td style=\"padding-left: 1em; padding-right: 1em; text-align: center; vertical-align: top\">5</td>\n",
       "        <td style=\"padding-left: 1em; padding-right: 1em; text-align: center; vertical-align: top\">I am using this with a<br>Nook HD+. It works as ...</td>\n",
       "    </tr>\n",
       "    <tr>\n",
       "        <td style=\"padding-left: 1em; padding-right: 1em; text-align: center; vertical-align: top\">A2P5U7BDKKT7FW</td>\n",
       "        <td style=\"padding-left: 1em; padding-right: 1em; text-align: center; vertical-align: top\">0594451647</td>\n",
       "        <td style=\"padding-left: 1em; padding-right: 1em; text-align: center; vertical-align: top\">2</td>\n",
       "        <td style=\"padding-left: 1em; padding-right: 1em; text-align: center; vertical-align: top\">The cable is very wobbly<br>and sometimes disconn ...</td>\n",
       "    </tr>\n",
       "    <tr>\n",
       "        <td style=\"padding-left: 1em; padding-right: 1em; text-align: center; vertical-align: top\">AAZ084UMH8VZ2</td>\n",
       "        <td style=\"padding-left: 1em; padding-right: 1em; text-align: center; vertical-align: top\">0594451647</td>\n",
       "        <td style=\"padding-left: 1em; padding-right: 1em; text-align: center; vertical-align: top\">5</td>\n",
       "        <td style=\"padding-left: 1em; padding-right: 1em; text-align: center; vertical-align: top\">This adaptor is real easy<br>to setup and use right ...</td>\n",
       "    </tr>\n",
       "    <tr>\n",
       "        <td style=\"padding-left: 1em; padding-right: 1em; text-align: center; vertical-align: top\">AEZ3CR6BKIROJ</td>\n",
       "        <td style=\"padding-left: 1em; padding-right: 1em; text-align: center; vertical-align: top\">0594451647</td>\n",
       "        <td style=\"padding-left: 1em; padding-right: 1em; text-align: center; vertical-align: top\">4</td>\n",
       "        <td style=\"padding-left: 1em; padding-right: 1em; text-align: center; vertical-align: top\">This adapter easily<br>connects my Nook HD ...</td>\n",
       "    </tr>\n",
       "    <tr>\n",
       "        <td style=\"padding-left: 1em; padding-right: 1em; text-align: center; vertical-align: top\">A3BY5KCNQZXV5U</td>\n",
       "        <td style=\"padding-left: 1em; padding-right: 1em; text-align: center; vertical-align: top\">0594451647</td>\n",
       "        <td style=\"padding-left: 1em; padding-right: 1em; text-align: center; vertical-align: top\">5</td>\n",
       "        <td style=\"padding-left: 1em; padding-right: 1em; text-align: center; vertical-align: top\">This product really works<br>great but I found the ...</td>\n",
       "    </tr>\n",
       "    <tr>\n",
       "        <td style=\"padding-left: 1em; padding-right: 1em; text-align: center; vertical-align: top\">A7S2B0I67WNWB</td>\n",
       "        <td style=\"padding-left: 1em; padding-right: 1em; text-align: center; vertical-align: top\">0594481813</td>\n",
       "        <td style=\"padding-left: 1em; padding-right: 1em; text-align: center; vertical-align: top\">4</td>\n",
       "        <td style=\"padding-left: 1em; padding-right: 1em; text-align: center; vertical-align: top\">This item is just as was<br>described in the orig ...</td>\n",
       "    </tr>\n",
       "</table>\n",
       "[99999 rows x 4 columns]<br/>Note: Only the head of the SFrame is printed.<br/>You can use print_rows(num_rows=m, num_columns=n) to print more rows and columns.\n",
       "</div>"
      ],
      "text/plain": [
       "Columns:\n",
       "\tuser_id\tstr\n",
       "\tproductID\tstr\n",
       "\toverall\tint\n",
       "\treviewText\tstr\n",
       "\n",
       "Rows: 99999\n",
       "\n",
       "Data:\n",
       "+----------------+------------+---------+-------------------------------+\n",
       "|    user_id     | productID  | overall |           reviewText          |\n",
       "+----------------+------------+---------+-------------------------------+\n",
       "| AMO214LNFCEI4  | 0528881469 |    1    | I'm a professional OTR tru... |\n",
       "| A3N7T0DY83Y4IG | 0528881469 |    3    | Well, what can I say.  I'v... |\n",
       "| A1H8PY3QHMQQA0 | 0528881469 |    2    | Not going to write a long ... |\n",
       "| A24EV6RXELQZ63 | 0528881469 |    1    | I've had mine for a year a... |\n",
       "| A2JXAZZI9PHK9Z | 0594451647 |    5    | I am using this with a Noo... |\n",
       "| A2P5U7BDKKT7FW | 0594451647 |    2    | The cable is very wobbly a... |\n",
       "| AAZ084UMH8VZ2  | 0594451647 |    5    | This adaptor is real easy ... |\n",
       "| AEZ3CR6BKIROJ  | 0594451647 |    4    | This adapter easily connec... |\n",
       "| A3BY5KCNQZXV5U | 0594451647 |    5    | This product really works ... |\n",
       "| A7S2B0I67WNWB  | 0594481813 |    4    | This item is just as was d... |\n",
       "+----------------+------------+---------+-------------------------------+\n",
       "[99999 rows x 4 columns]\n",
       "Note: Only the head of the SFrame is printed.\n",
       "You can use print_rows(num_rows=m, num_columns=n) to print more rows and columns."
      ]
     },
     "execution_count": 31,
     "metadata": {},
     "output_type": "execute_result"
    }
   ],
   "source": [
    "sf_sent"
   ]
  },
  {
   "cell_type": "code",
   "execution_count": 32,
   "metadata": {
    "collapsed": false
   },
   "outputs": [
    {
     "name": "stderr",
     "output_type": "stream",
     "text": [
      "[INFO] graphlab.toolkits.product_sentiment._product_sentiment: Parsing into sentences...\n"
     ]
    },
    {
     "data": {
      "text/html": [
       "<pre>Tokenizing...</pre>"
      ],
      "text/plain": [
       "Tokenizing..."
      ]
     },
     "metadata": {},
     "output_type": "display_data"
    },
    {
     "data": {
      "text/html": [
       "<pre>TF-IDF transform...</pre>"
      ],
      "text/plain": [
       "TF-IDF transform..."
      ]
     },
     "metadata": {},
     "output_type": "display_data"
    },
    {
     "data": {
      "text/html": [
       "<pre>Creating inverted index...</pre>"
      ],
      "text/plain": [
       "Creating inverted index..."
      ]
     },
     "metadata": {},
     "output_type": "display_data"
    },
    {
     "data": {
      "text/html": [
       "<pre>+--------------------------+-------------------+</pre>"
      ],
      "text/plain": [
       "+--------------------------+-------------------+"
      ]
     },
     "metadata": {},
     "output_type": "display_data"
    },
    {
     "data": {
      "text/html": [
       "<pre>| Number of rows processed | Elapsed (seconds) |</pre>"
      ],
      "text/plain": [
       "| Number of rows processed | Elapsed (seconds) |"
      ]
     },
     "metadata": {},
     "output_type": "display_data"
    },
    {
     "data": {
      "text/html": [
       "<pre>+--------------------------+-------------------+</pre>"
      ],
      "text/plain": [
       "+--------------------------+-------------------+"
      ]
     },
     "metadata": {},
     "output_type": "display_data"
    },
    {
     "data": {
      "text/html": [
       "<pre>| 0                        | 2.24s             |</pre>"
      ],
      "text/plain": [
       "| 0                        | 2.24s             |"
      ]
     },
     "metadata": {},
     "output_type": "display_data"
    },
    {
     "data": {
      "text/html": [
       "<pre>| 100000                   | 4.98s             |</pre>"
      ],
      "text/plain": [
       "| 100000                   | 4.98s             |"
      ]
     },
     "metadata": {},
     "output_type": "display_data"
    },
    {
     "data": {
      "text/html": [
       "<pre>| 200000                   | 7.79s             |</pre>"
      ],
      "text/plain": [
       "| 200000                   | 7.79s             |"
      ]
     },
     "metadata": {},
     "output_type": "display_data"
    },
    {
     "data": {
      "text/html": [
       "<pre>| 300000                   | 10.61s            |</pre>"
      ],
      "text/plain": [
       "| 300000                   | 10.61s            |"
      ]
     },
     "metadata": {},
     "output_type": "display_data"
    },
    {
     "data": {
      "text/html": [
       "<pre>| 400000                   | 13.59s            |</pre>"
      ],
      "text/plain": [
       "| 400000                   | 13.59s            |"
      ]
     },
     "metadata": {},
     "output_type": "display_data"
    },
    {
     "data": {
      "text/html": [
       "<pre>| 500000                   | 16.59s            |</pre>"
      ],
      "text/plain": [
       "| 500000                   | 16.59s            |"
      ]
     },
     "metadata": {},
     "output_type": "display_data"
    },
    {
     "data": {
      "text/html": [
       "<pre>Creating query expansion model...</pre>"
      ],
      "text/plain": [
       "Creating query expansion model..."
      ]
     },
     "metadata": {},
     "output_type": "display_data"
    },
    {
     "data": {
      "text/html": [
       "<pre>Saving data for querying...</pre>"
      ],
      "text/plain": [
       "Saving data for querying..."
      ]
     },
     "metadata": {},
     "output_type": "display_data"
    },
    {
     "data": {
      "text/html": [
       "<pre>+--------------------------+-------------------+</pre>"
      ],
      "text/plain": [
       "+--------------------------+-------------------+"
      ]
     },
     "metadata": {},
     "output_type": "display_data"
    }
   ],
   "source": [
    "s_sentiment = gl.product_sentiment.create(sf_sent, features=['reviewText'], splitby='sentence')"
   ]
  },
  {
   "cell_type": "markdown",
   "metadata": {},
   "source": [
    "The above function has tokenized all the keywords, did TF-IDF transform and created reverse index for better mapping."
   ]
  },
  {
   "cell_type": "code",
   "execution_count": 33,
   "metadata": {
    "collapsed": false
   },
   "outputs": [
    {
     "data": {
      "text/html": [
       "<div style=\"max-height:1000px;max-width:1500px;overflow:auto;\"><table frame=\"box\" rules=\"cols\">\n",
       "    <tr>\n",
       "        <th style=\"padding-left: 1em; padding-right: 1em; text-align: center\">keyword</th>\n",
       "        <th style=\"padding-left: 1em; padding-right: 1em; text-align: center\">sd_sentiment</th>\n",
       "        <th style=\"padding-left: 1em; padding-right: 1em; text-align: center\">mean_sentiment</th>\n",
       "        <th style=\"padding-left: 1em; padding-right: 1em; text-align: center\">review_count</th>\n",
       "    </tr>\n",
       "    <tr>\n",
       "        <td style=\"padding-left: 1em; padding-right: 1em; text-align: center; vertical-align: top\">good</td>\n",
       "        <td style=\"padding-left: 1em; padding-right: 1em; text-align: center; vertical-align: top\">0.0321200050043</td>\n",
       "        <td style=\"padding-left: 1em; padding-right: 1em; text-align: center; vertical-align: top\">0.953987609883</td>\n",
       "        <td style=\"padding-left: 1em; padding-right: 1em; text-align: center; vertical-align: top\">10</td>\n",
       "    </tr>\n",
       "    <tr>\n",
       "        <td style=\"padding-left: 1em; padding-right: 1em; text-align: center; vertical-align: top\">huge</td>\n",
       "        <td style=\"padding-left: 1em; padding-right: 1em; text-align: center; vertical-align: top\">0.279312934211</td>\n",
       "        <td style=\"padding-left: 1em; padding-right: 1em; text-align: center; vertical-align: top\">0.663692024519</td>\n",
       "        <td style=\"padding-left: 1em; padding-right: 1em; text-align: center; vertical-align: top\">10</td>\n",
       "    </tr>\n",
       "    <tr>\n",
       "        <td style=\"padding-left: 1em; padding-right: 1em; text-align: center; vertical-align: top\">expensive</td>\n",
       "        <td style=\"padding-left: 1em; padding-right: 1em; text-align: center; vertical-align: top\">0.0592106676536</td>\n",
       "        <td style=\"padding-left: 1em; padding-right: 1em; text-align: center; vertical-align: top\">0.520467280022</td>\n",
       "        <td style=\"padding-left: 1em; padding-right: 1em; text-align: center; vertical-align: top\">10</td>\n",
       "    </tr>\n",
       "    <tr>\n",
       "        <td style=\"padding-left: 1em; padding-right: 1em; text-align: center; vertical-align: top\">cheap</td>\n",
       "        <td style=\"padding-left: 1em; padding-right: 1em; text-align: center; vertical-align: top\">0.168485042446</td>\n",
       "        <td style=\"padding-left: 1em; padding-right: 1em; text-align: center; vertical-align: top\">0.454363946151</td>\n",
       "        <td style=\"padding-left: 1em; padding-right: 1em; text-align: center; vertical-align: top\">10</td>\n",
       "    </tr>\n",
       "    <tr>\n",
       "        <td style=\"padding-left: 1em; padding-right: 1em; text-align: center; vertical-align: top\">bad</td>\n",
       "        <td style=\"padding-left: 1em; padding-right: 1em; text-align: center; vertical-align: top\">0.118690464426</td>\n",
       "        <td style=\"padding-left: 1em; padding-right: 1em; text-align: center; vertical-align: top\">0.330156251101</td>\n",
       "        <td style=\"padding-left: 1em; padding-right: 1em; text-align: center; vertical-align: top\">10</td>\n",
       "    </tr>\n",
       "    <tr>\n",
       "        <td style=\"padding-left: 1em; padding-right: 1em; text-align: center; vertical-align: top\">worst</td>\n",
       "        <td style=\"padding-left: 1em; padding-right: 1em; text-align: center; vertical-align: top\">0.0132706536757</td>\n",
       "        <td style=\"padding-left: 1em; padding-right: 1em; text-align: center; vertical-align: top\">0.0303397403822</td>\n",
       "        <td style=\"padding-left: 1em; padding-right: 1em; text-align: center; vertical-align: top\">10</td>\n",
       "    </tr>\n",
       "</table>\n",
       "[6 rows x 4 columns]<br/>\n",
       "</div>"
      ],
      "text/plain": [
       "Columns:\n",
       "\tkeyword\tstr\n",
       "\tsd_sentiment\tfloat\n",
       "\tmean_sentiment\tfloat\n",
       "\treview_count\tint\n",
       "\n",
       "Rows: 6\n",
       "\n",
       "Data:\n",
       "+-----------+-----------------+-----------------+--------------+\n",
       "|  keyword  |   sd_sentiment  |  mean_sentiment | review_count |\n",
       "+-----------+-----------------+-----------------+--------------+\n",
       "|    good   | 0.0321200050043 |  0.953987609883 |      10      |\n",
       "|    huge   |  0.279312934211 |  0.663692024519 |      10      |\n",
       "| expensive | 0.0592106676536 |  0.520467280022 |      10      |\n",
       "|   cheap   |  0.168485042446 |  0.454363946151 |      10      |\n",
       "|    bad    |  0.118690464426 |  0.330156251101 |      10      |\n",
       "|   worst   | 0.0132706536757 | 0.0303397403822 |      10      |\n",
       "+-----------+-----------------+-----------------+--------------+\n",
       "[6 rows x 4 columns]"
      ]
     },
     "execution_count": 33,
     "metadata": {},
     "output_type": "execute_result"
    }
   ],
   "source": [
    "# let's see how sentiments of few commonly used words in reviews have.\n",
    "\n",
    "s_sentiment.sentiment_summary(['good', 'bad', 'expensive', 'cheap','worst','huge',])"
   ]
  },
  {
   "cell_type": "code",
   "execution_count": 34,
   "metadata": {
    "collapsed": true
   },
   "outputs": [],
   "source": [
    "sf_model = gl.SFrame(df_ab_model)"
   ]
  },
  {
   "cell_type": "code",
   "execution_count": 35,
   "metadata": {
    "collapsed": false
   },
   "outputs": [
    {
     "data": {
      "text/html": [
       "<pre>Recsys training: model = ranking_factorization_recommender</pre>"
      ],
      "text/plain": [
       "Recsys training: model = ranking_factorization_recommender"
      ]
     },
     "metadata": {},
     "output_type": "display_data"
    },
    {
     "data": {
      "text/html": [
       "<pre>Preparing data set.</pre>"
      ],
      "text/plain": [
       "Preparing data set."
      ]
     },
     "metadata": {},
     "output_type": "display_data"
    },
    {
     "data": {
      "text/html": [
       "<pre>    Data has 99999 observations with 60813 users and 4181 items.</pre>"
      ],
      "text/plain": [
       "    Data has 99999 observations with 60813 users and 4181 items."
      ]
     },
     "metadata": {},
     "output_type": "display_data"
    },
    {
     "data": {
      "text/html": [
       "<pre>    Data prepared in: 0.121667s</pre>"
      ],
      "text/plain": [
       "    Data prepared in: 0.121667s"
      ]
     },
     "metadata": {},
     "output_type": "display_data"
    },
    {
     "data": {
      "text/html": [
       "<pre>Training ranking_factorization_recommender for recommendations.</pre>"
      ],
      "text/plain": [
       "Training ranking_factorization_recommender for recommendations."
      ]
     },
     "metadata": {},
     "output_type": "display_data"
    },
    {
     "data": {
      "text/html": [
       "<pre>+--------------------------------+--------------------------------------------------+----------+</pre>"
      ],
      "text/plain": [
       "+--------------------------------+--------------------------------------------------+----------+"
      ]
     },
     "metadata": {},
     "output_type": "display_data"
    },
    {
     "data": {
      "text/html": [
       "<pre>| Parameter                      | Description                                      | Value    |</pre>"
      ],
      "text/plain": [
       "| Parameter                      | Description                                      | Value    |"
      ]
     },
     "metadata": {},
     "output_type": "display_data"
    },
    {
     "data": {
      "text/html": [
       "<pre>+--------------------------------+--------------------------------------------------+----------+</pre>"
      ],
      "text/plain": [
       "+--------------------------------+--------------------------------------------------+----------+"
      ]
     },
     "metadata": {},
     "output_type": "display_data"
    },
    {
     "data": {
      "text/html": [
       "<pre>| num_factors                    | Factor Dimension                                 | 32       |</pre>"
      ],
      "text/plain": [
       "| num_factors                    | Factor Dimension                                 | 32       |"
      ]
     },
     "metadata": {},
     "output_type": "display_data"
    },
    {
     "data": {
      "text/html": [
       "<pre>| regularization                 | L2 Regularization on Factors                     | 1e-009   |</pre>"
      ],
      "text/plain": [
       "| regularization                 | L2 Regularization on Factors                     | 1e-009   |"
      ]
     },
     "metadata": {},
     "output_type": "display_data"
    },
    {
     "data": {
      "text/html": [
       "<pre>| solver                         | Solver used for training                         | sgd      |</pre>"
      ],
      "text/plain": [
       "| solver                         | Solver used for training                         | sgd      |"
      ]
     },
     "metadata": {},
     "output_type": "display_data"
    },
    {
     "data": {
      "text/html": [
       "<pre>| linear_regularization          | L2 Regularization on Linear Coefficients         | 1e-009   |</pre>"
      ],
      "text/plain": [
       "| linear_regularization          | L2 Regularization on Linear Coefficients         | 1e-009   |"
      ]
     },
     "metadata": {},
     "output_type": "display_data"
    },
    {
     "data": {
      "text/html": [
       "<pre>| ranking_regularization         | Rank-based Regularization Weight                 | 0.25     |</pre>"
      ],
      "text/plain": [
       "| ranking_regularization         | Rank-based Regularization Weight                 | 0.25     |"
      ]
     },
     "metadata": {},
     "output_type": "display_data"
    },
    {
     "data": {
      "text/html": [
       "<pre>| max_iterations                 | Maximum Number of Iterations                     | 25       |</pre>"
      ],
      "text/plain": [
       "| max_iterations                 | Maximum Number of Iterations                     | 25       |"
      ]
     },
     "metadata": {},
     "output_type": "display_data"
    },
    {
     "data": {
      "text/html": [
       "<pre>+--------------------------------+--------------------------------------------------+----------+</pre>"
      ],
      "text/plain": [
       "+--------------------------------+--------------------------------------------------+----------+"
      ]
     },
     "metadata": {},
     "output_type": "display_data"
    },
    {
     "data": {
      "text/html": [
       "<pre>  Optimizing model using SGD; tuning step size.</pre>"
      ],
      "text/plain": [
       "  Optimizing model using SGD; tuning step size."
      ]
     },
     "metadata": {},
     "output_type": "display_data"
    },
    {
     "data": {
      "text/html": [
       "<pre>  Using 12499 / 99999 points for tuning the step size.</pre>"
      ],
      "text/plain": [
       "  Using 12499 / 99999 points for tuning the step size."
      ]
     },
     "metadata": {},
     "output_type": "display_data"
    },
    {
     "data": {
      "text/html": [
       "<pre>+---------+-------------------+------------------------------------------+</pre>"
      ],
      "text/plain": [
       "+---------+-------------------+------------------------------------------+"
      ]
     },
     "metadata": {},
     "output_type": "display_data"
    },
    {
     "data": {
      "text/html": [
       "<pre>| Attempt | Initial Step Size | Estimated Objective Value                |</pre>"
      ],
      "text/plain": [
       "| Attempt | Initial Step Size | Estimated Objective Value                |"
      ]
     },
     "metadata": {},
     "output_type": "display_data"
    },
    {
     "data": {
      "text/html": [
       "<pre>+---------+-------------------+------------------------------------------+</pre>"
      ],
      "text/plain": [
       "+---------+-------------------+------------------------------------------+"
      ]
     },
     "metadata": {},
     "output_type": "display_data"
    },
    {
     "data": {
      "text/html": [
       "<pre>| 0       | 25                | Not Viable                               |</pre>"
      ],
      "text/plain": [
       "| 0       | 25                | Not Viable                               |"
      ]
     },
     "metadata": {},
     "output_type": "display_data"
    },
    {
     "data": {
      "text/html": [
       "<pre>| 1       | 6.25              | Not Viable                               |</pre>"
      ],
      "text/plain": [
       "| 1       | 6.25              | Not Viable                               |"
      ]
     },
     "metadata": {},
     "output_type": "display_data"
    },
    {
     "data": {
      "text/html": [
       "<pre>| 2       | 1.5625            | Not Viable                               |</pre>"
      ],
      "text/plain": [
       "| 2       | 1.5625            | Not Viable                               |"
      ]
     },
     "metadata": {},
     "output_type": "display_data"
    },
    {
     "data": {
      "text/html": [
       "<pre>| 3       | 0.390625          | 1.39339                                  |</pre>"
      ],
      "text/plain": [
       "| 3       | 0.390625          | 1.39339                                  |"
      ]
     },
     "metadata": {},
     "output_type": "display_data"
    },
    {
     "data": {
      "text/html": [
       "<pre>| 4       | 0.195312          | 1.38481                                  |</pre>"
      ],
      "text/plain": [
       "| 4       | 0.195312          | 1.38481                                  |"
      ]
     },
     "metadata": {},
     "output_type": "display_data"
    },
    {
     "data": {
      "text/html": [
       "<pre>| 5       | 0.0976562         | 1.56087                                  |</pre>"
      ],
      "text/plain": [
       "| 5       | 0.0976562         | 1.56087                                  |"
      ]
     },
     "metadata": {},
     "output_type": "display_data"
    },
    {
     "data": {
      "text/html": [
       "<pre>| 6       | 0.0488281         | 1.85598                                  |</pre>"
      ],
      "text/plain": [
       "| 6       | 0.0488281         | 1.85598                                  |"
      ]
     },
     "metadata": {},
     "output_type": "display_data"
    },
    {
     "data": {
      "text/html": [
       "<pre>| 7       | 0.0244141         | 2.15196                                  |</pre>"
      ],
      "text/plain": [
       "| 7       | 0.0244141         | 2.15196                                  |"
      ]
     },
     "metadata": {},
     "output_type": "display_data"
    },
    {
     "data": {
      "text/html": [
       "<pre>+---------+-------------------+------------------------------------------+</pre>"
      ],
      "text/plain": [
       "+---------+-------------------+------------------------------------------+"
      ]
     },
     "metadata": {},
     "output_type": "display_data"
    },
    {
     "data": {
      "text/html": [
       "<pre>| Final   | 0.195312          | 1.38481                                  |</pre>"
      ],
      "text/plain": [
       "| Final   | 0.195312          | 1.38481                                  |"
      ]
     },
     "metadata": {},
     "output_type": "display_data"
    },
    {
     "data": {
      "text/html": [
       "<pre>+---------+-------------------+------------------------------------------+</pre>"
      ],
      "text/plain": [
       "+---------+-------------------+------------------------------------------+"
      ]
     },
     "metadata": {},
     "output_type": "display_data"
    },
    {
     "data": {
      "text/html": [
       "<pre>Starting Optimization.</pre>"
      ],
      "text/plain": [
       "Starting Optimization."
      ]
     },
     "metadata": {},
     "output_type": "display_data"
    },
    {
     "data": {
      "text/html": [
       "<pre>+---------+--------------+-------------------+-----------------------+-------------+</pre>"
      ],
      "text/plain": [
       "+---------+--------------+-------------------+-----------------------+-------------+"
      ]
     },
     "metadata": {},
     "output_type": "display_data"
    },
    {
     "data": {
      "text/html": [
       "<pre>| Iter.   | Elapsed Time | Approx. Objective | Approx. Training RMSE | Step Size   |</pre>"
      ],
      "text/plain": [
       "| Iter.   | Elapsed Time | Approx. Objective | Approx. Training RMSE | Step Size   |"
      ]
     },
     "metadata": {},
     "output_type": "display_data"
    },
    {
     "data": {
      "text/html": [
       "<pre>+---------+--------------+-------------------+-----------------------+-------------+</pre>"
      ],
      "text/plain": [
       "+---------+--------------+-------------------+-----------------------+-------------+"
      ]
     },
     "metadata": {},
     "output_type": "display_data"
    },
    {
     "data": {
      "text/html": [
       "<pre>| Initial | 0us          | 2.76255           | 1.18701               |             |</pre>"
      ],
      "text/plain": [
       "| Initial | 0us          | 2.76255           | 1.18701               |             |"
      ]
     },
     "metadata": {},
     "output_type": "display_data"
    },
    {
     "data": {
      "text/html": [
       "<pre>+---------+--------------+-------------------+-----------------------+-------------+</pre>"
      ],
      "text/plain": [
       "+---------+--------------+-------------------+-----------------------+-------------+"
      ]
     },
     "metadata": {},
     "output_type": "display_data"
    },
    {
     "data": {
      "text/html": [
       "<pre>| 1       | 62.842ms     | 2.74236           | 1.33474               | 0.195312    |</pre>"
      ],
      "text/plain": [
       "| 1       | 62.842ms     | 2.74236           | 1.33474               | 0.195312    |"
      ]
     },
     "metadata": {},
     "output_type": "display_data"
    },
    {
     "data": {
      "text/html": [
       "<pre>| 2       | 121.675ms    | 2.09206           | 1.12964               | 0.116134    |</pre>"
      ],
      "text/plain": [
       "| 2       | 121.675ms    | 2.09206           | 1.12964               | 0.116134    |"
      ]
     },
     "metadata": {},
     "output_type": "display_data"
    },
    {
     "data": {
      "text/html": [
       "<pre>| 3       | 185.504ms    | 1.82579           | 1.00351               | 0.0856819   |</pre>"
      ],
      "text/plain": [
       "| 3       | 185.504ms    | 1.82579           | 1.00351               | 0.0856819   |"
      ]
     },
     "metadata": {},
     "output_type": "display_data"
    },
    {
     "data": {
      "text/html": [
       "<pre>| 4       | 249.333ms    | 1.65683           | 0.922041              | 0.0690534   |</pre>"
      ],
      "text/plain": [
       "| 4       | 249.333ms    | 1.65683           | 0.922041              | 0.0690534   |"
      ]
     },
     "metadata": {},
     "output_type": "display_data"
    },
    {
     "data": {
      "text/html": [
       "<pre>| 5       | 326.129ms    | 1.50153           | 0.83515               | 0.0584121   |</pre>"
      ],
      "text/plain": [
       "| 5       | 326.129ms    | 1.50153           | 0.83515               | 0.0584121   |"
      ]
     },
     "metadata": {},
     "output_type": "display_data"
    },
    {
     "data": {
      "text/html": [
       "<pre>| 6       | 391.953ms    | 1.35503           | 0.75908               | 0.0509468   |</pre>"
      ],
      "text/plain": [
       "| 6       | 391.953ms    | 1.35503           | 0.75908               | 0.0509468   |"
      ]
     },
     "metadata": {},
     "output_type": "display_data"
    },
    {
     "data": {
      "text/html": [
       "<pre>| 11      | 690.156ms    | 0.919739          | 0.529316              | 0.0323359   |</pre>"
      ],
      "text/plain": [
       "| 11      | 690.156ms    | 0.919739          | 0.529316              | 0.0323359   |"
      ]
     },
     "metadata": {},
     "output_type": "display_data"
    },
    {
     "data": {
      "text/html": [
       "<pre>| 25      | 1.47s        | 0.421991          | 0.295787              | 0.0174693   |</pre>"
      ],
      "text/plain": [
       "| 25      | 1.47s        | 0.421991          | 0.295787              | 0.0174693   |"
      ]
     },
     "metadata": {},
     "output_type": "display_data"
    },
    {
     "data": {
      "text/html": [
       "<pre>+---------+--------------+-------------------+-----------------------+-------------+</pre>"
      ],
      "text/plain": [
       "+---------+--------------+-------------------+-----------------------+-------------+"
      ]
     },
     "metadata": {},
     "output_type": "display_data"
    },
    {
     "data": {
      "text/html": [
       "<pre>Optimization Complete: Maximum number of passes through the data reached.</pre>"
      ],
      "text/plain": [
       "Optimization Complete: Maximum number of passes through the data reached."
      ]
     },
     "metadata": {},
     "output_type": "display_data"
    },
    {
     "data": {
      "text/html": [
       "<pre>Computing final objective value and training RMSE.</pre>"
      ],
      "text/plain": [
       "Computing final objective value and training RMSE."
      ]
     },
     "metadata": {},
     "output_type": "display_data"
    },
    {
     "data": {
      "text/html": [
       "<pre>       Final objective value: 0.422248</pre>"
      ],
      "text/plain": [
       "       Final objective value: 0.422248"
      ]
     },
     "metadata": {},
     "output_type": "display_data"
    },
    {
     "data": {
      "text/html": [
       "<pre>       Final training RMSE: 0.30996</pre>"
      ],
      "text/plain": [
       "       Final training RMSE: 0.30996"
      ]
     },
     "metadata": {},
     "output_type": "display_data"
    }
   ],
   "source": [
    "m = gl.recommender.create(sf_model, user_id='user_id', item_id='productID', target='overall')"
   ]
  },
  {
   "cell_type": "code",
   "execution_count": 36,
   "metadata": {
    "collapsed": false
   },
   "outputs": [
    {
     "data": {
      "text/html": [
       "<pre>recommendations finished on 1000/60813 queries. users per second: 52865.3</pre>"
      ],
      "text/plain": [
       "recommendations finished on 1000/60813 queries. users per second: 52865.3"
      ]
     },
     "metadata": {},
     "output_type": "display_data"
    },
    {
     "data": {
      "text/html": [
       "<pre>recommendations finished on 2000/60813 queries. users per second: 59037.1</pre>"
      ],
      "text/plain": [
       "recommendations finished on 2000/60813 queries. users per second: 59037.1"
      ]
     },
     "metadata": {},
     "output_type": "display_data"
    },
    {
     "data": {
      "text/html": [
       "<pre>recommendations finished on 3000/60813 queries. users per second: 62710.3</pre>"
      ],
      "text/plain": [
       "recommendations finished on 3000/60813 queries. users per second: 62710.3"
      ]
     },
     "metadata": {},
     "output_type": "display_data"
    },
    {
     "data": {
      "text/html": [
       "<pre>recommendations finished on 4000/60813 queries. users per second: 63694.3</pre>"
      ],
      "text/plain": [
       "recommendations finished on 4000/60813 queries. users per second: 63694.3"
      ]
     },
     "metadata": {},
     "output_type": "display_data"
    },
    {
     "data": {
      "text/html": [
       "<pre>recommendations finished on 5000/60813 queries. users per second: 64301.2</pre>"
      ],
      "text/plain": [
       "recommendations finished on 5000/60813 queries. users per second: 64301.2"
      ]
     },
     "metadata": {},
     "output_type": "display_data"
    },
    {
     "data": {
      "text/html": [
       "<pre>recommendations finished on 6000/60813 queries. users per second: 65415.1</pre>"
      ],
      "text/plain": [
       "recommendations finished on 6000/60813 queries. users per second: 65415.1"
      ]
     },
     "metadata": {},
     "output_type": "display_data"
    },
    {
     "data": {
      "text/html": [
       "<pre>recommendations finished on 7000/60813 queries. users per second: 65007.4</pre>"
      ],
      "text/plain": [
       "recommendations finished on 7000/60813 queries. users per second: 65007.4"
      ]
     },
     "metadata": {},
     "output_type": "display_data"
    },
    {
     "data": {
      "text/html": [
       "<pre>recommendations finished on 8000/60813 queries. users per second: 65232.1</pre>"
      ],
      "text/plain": [
       "recommendations finished on 8000/60813 queries. users per second: 65232.1"
      ]
     },
     "metadata": {},
     "output_type": "display_data"
    },
    {
     "data": {
      "text/html": [
       "<pre>recommendations finished on 9000/60813 queries. users per second: 65407.5</pre>"
      ],
      "text/plain": [
       "recommendations finished on 9000/60813 queries. users per second: 65407.5"
      ]
     },
     "metadata": {},
     "output_type": "display_data"
    },
    {
     "data": {
      "text/html": [
       "<pre>recommendations finished on 10000/60813 queries. users per second: 64701.9</pre>"
      ],
      "text/plain": [
       "recommendations finished on 10000/60813 queries. users per second: 64701.9"
      ]
     },
     "metadata": {},
     "output_type": "display_data"
    },
    {
     "data": {
      "text/html": [
       "<pre>recommendations finished on 11000/60813 queries. users per second: 64136.6</pre>"
      ],
      "text/plain": [
       "recommendations finished on 11000/60813 queries. users per second: 64136.6"
      ]
     },
     "metadata": {},
     "output_type": "display_data"
    },
    {
     "data": {
      "text/html": [
       "<pre>recommendations finished on 12000/60813 queries. users per second: 64353.9</pre>"
      ],
      "text/plain": [
       "recommendations finished on 12000/60813 queries. users per second: 64353.9"
      ]
     },
     "metadata": {},
     "output_type": "display_data"
    },
    {
     "data": {
      "text/html": [
       "<pre>recommendations finished on 13000/60813 queries. users per second: 64859.9</pre>"
      ],
      "text/plain": [
       "recommendations finished on 13000/60813 queries. users per second: 64859.9"
      ]
     },
     "metadata": {},
     "output_type": "display_data"
    },
    {
     "data": {
      "text/html": [
       "<pre>recommendations finished on 14000/60813 queries. users per second: 64401</pre>"
      ],
      "text/plain": [
       "recommendations finished on 14000/60813 queries. users per second: 64401"
      ]
     },
     "metadata": {},
     "output_type": "display_data"
    },
    {
     "data": {
      "text/html": [
       "<pre>recommendations finished on 15000/60813 queries. users per second: 63201.5</pre>"
      ],
      "text/plain": [
       "recommendations finished on 15000/60813 queries. users per second: 63201.5"
      ]
     },
     "metadata": {},
     "output_type": "display_data"
    },
    {
     "data": {
      "text/html": [
       "<pre>recommendations finished on 16000/60813 queries. users per second: 62188.6</pre>"
      ],
      "text/plain": [
       "recommendations finished on 16000/60813 queries. users per second: 62188.6"
      ]
     },
     "metadata": {},
     "output_type": "display_data"
    },
    {
     "data": {
      "text/html": [
       "<pre>recommendations finished on 17000/60813 queries. users per second: 61765.8</pre>"
      ],
      "text/plain": [
       "recommendations finished on 17000/60813 queries. users per second: 61765.8"
      ]
     },
     "metadata": {},
     "output_type": "display_data"
    },
    {
     "data": {
      "text/html": [
       "<pre>recommendations finished on 18000/60813 queries. users per second: 60774.7</pre>"
      ],
      "text/plain": [
       "recommendations finished on 18000/60813 queries. users per second: 60774.7"
      ]
     },
     "metadata": {},
     "output_type": "display_data"
    },
    {
     "data": {
      "text/html": [
       "<pre>recommendations finished on 19000/60813 queries. users per second: 60484.7</pre>"
      ],
      "text/plain": [
       "recommendations finished on 19000/60813 queries. users per second: 60484.7"
      ]
     },
     "metadata": {},
     "output_type": "display_data"
    },
    {
     "data": {
      "text/html": [
       "<pre>recommendations finished on 20000/60813 queries. users per second: 59866.6</pre>"
      ],
      "text/plain": [
       "recommendations finished on 20000/60813 queries. users per second: 59866.6"
      ]
     },
     "metadata": {},
     "output_type": "display_data"
    },
    {
     "data": {
      "text/html": [
       "<pre>recommendations finished on 21000/60813 queries. users per second: 59485.4</pre>"
      ],
      "text/plain": [
       "recommendations finished on 21000/60813 queries. users per second: 59485.4"
      ]
     },
     "metadata": {},
     "output_type": "display_data"
    },
    {
     "data": {
      "text/html": [
       "<pre>recommendations finished on 22000/60813 queries. users per second: 58828.4</pre>"
      ],
      "text/plain": [
       "recommendations finished on 22000/60813 queries. users per second: 58828.4"
      ]
     },
     "metadata": {},
     "output_type": "display_data"
    },
    {
     "data": {
      "text/html": [
       "<pre>recommendations finished on 23000/60813 queries. users per second: 57947.8</pre>"
      ],
      "text/plain": [
       "recommendations finished on 23000/60813 queries. users per second: 57947.8"
      ]
     },
     "metadata": {},
     "output_type": "display_data"
    },
    {
     "data": {
      "text/html": [
       "<pre>recommendations finished on 24000/60813 queries. users per second: 56893.3</pre>"
      ],
      "text/plain": [
       "recommendations finished on 24000/60813 queries. users per second: 56893.3"
      ]
     },
     "metadata": {},
     "output_type": "display_data"
    },
    {
     "data": {
      "text/html": [
       "<pre>recommendations finished on 25000/60813 queries. users per second: 56334</pre>"
      ],
      "text/plain": [
       "recommendations finished on 25000/60813 queries. users per second: 56334"
      ]
     },
     "metadata": {},
     "output_type": "display_data"
    },
    {
     "data": {
      "text/html": [
       "<pre>recommendations finished on 26000/60813 queries. users per second: 56431.3</pre>"
      ],
      "text/plain": [
       "recommendations finished on 26000/60813 queries. users per second: 56431.3"
      ]
     },
     "metadata": {},
     "output_type": "display_data"
    },
    {
     "data": {
      "text/html": [
       "<pre>recommendations finished on 27000/60813 queries. users per second: 56521.9</pre>"
      ],
      "text/plain": [
       "recommendations finished on 27000/60813 queries. users per second: 56521.9"
      ]
     },
     "metadata": {},
     "output_type": "display_data"
    },
    {
     "data": {
      "text/html": [
       "<pre>recommendations finished on 28000/60813 queries. users per second: 56720.5</pre>"
      ],
      "text/plain": [
       "recommendations finished on 28000/60813 queries. users per second: 56720.5"
      ]
     },
     "metadata": {},
     "output_type": "display_data"
    },
    {
     "data": {
      "text/html": [
       "<pre>recommendations finished on 29000/60813 queries. users per second: 56684.7</pre>"
      ],
      "text/plain": [
       "recommendations finished on 29000/60813 queries. users per second: 56684.7"
      ]
     },
     "metadata": {},
     "output_type": "display_data"
    },
    {
     "data": {
      "text/html": [
       "<pre>recommendations finished on 30000/60813 queries. users per second: 56758.6</pre>"
      ],
      "text/plain": [
       "recommendations finished on 30000/60813 queries. users per second: 56758.6"
      ]
     },
     "metadata": {},
     "output_type": "display_data"
    },
    {
     "data": {
      "text/html": [
       "<pre>recommendations finished on 31000/60813 queries. users per second: 56827.6</pre>"
      ],
      "text/plain": [
       "recommendations finished on 31000/60813 queries. users per second: 56827.6"
      ]
     },
     "metadata": {},
     "output_type": "display_data"
    },
    {
     "data": {
      "text/html": [
       "<pre>recommendations finished on 32000/60813 queries. users per second: 56791.8</pre>"
      ],
      "text/plain": [
       "recommendations finished on 32000/60813 queries. users per second: 56791.8"
      ]
     },
     "metadata": {},
     "output_type": "display_data"
    },
    {
     "data": {
      "text/html": [
       "<pre>recommendations finished on 33000/60813 queries. users per second: 57051.8</pre>"
      ],
      "text/plain": [
       "recommendations finished on 33000/60813 queries. users per second: 57051.8"
      ]
     },
     "metadata": {},
     "output_type": "display_data"
    },
    {
     "data": {
      "text/html": [
       "<pre>recommendations finished on 34000/60813 queries. users per second: 57202.6</pre>"
      ],
      "text/plain": [
       "recommendations finished on 34000/60813 queries. users per second: 57202.6"
      ]
     },
     "metadata": {},
     "output_type": "display_data"
    },
    {
     "data": {
      "text/html": [
       "<pre>recommendations finished on 35000/60813 queries. users per second: 57345.5</pre>"
      ],
      "text/plain": [
       "recommendations finished on 35000/60813 queries. users per second: 57345.5"
      ]
     },
     "metadata": {},
     "output_type": "display_data"
    },
    {
     "data": {
      "text/html": [
       "<pre>recommendations finished on 36000/60813 queries. users per second: 57389.6</pre>"
      ],
      "text/plain": [
       "recommendations finished on 36000/60813 queries. users per second: 57389.6"
      ]
     },
     "metadata": {},
     "output_type": "display_data"
    },
    {
     "data": {
      "text/html": [
       "<pre>recommendations finished on 37000/60813 queries. users per second: 57520.5</pre>"
      ],
      "text/plain": [
       "recommendations finished on 37000/60813 queries. users per second: 57520.5"
      ]
     },
     "metadata": {},
     "output_type": "display_data"
    },
    {
     "data": {
      "text/html": [
       "<pre>recommendations finished on 38000/60813 queries. users per second: 57645</pre>"
      ],
      "text/plain": [
       "recommendations finished on 38000/60813 queries. users per second: 57645"
      ]
     },
     "metadata": {},
     "output_type": "display_data"
    },
    {
     "data": {
      "text/html": [
       "<pre>recommendations finished on 39000/60813 queries. users per second: 57593.6</pre>"
      ],
      "text/plain": [
       "recommendations finished on 39000/60813 queries. users per second: 57593.6"
      ]
     },
     "metadata": {},
     "output_type": "display_data"
    },
    {
     "data": {
      "text/html": [
       "<pre>recommendations finished on 40000/60813 queries. users per second: 57710.5</pre>"
      ],
      "text/plain": [
       "recommendations finished on 40000/60813 queries. users per second: 57710.5"
      ]
     },
     "metadata": {},
     "output_type": "display_data"
    },
    {
     "data": {
      "text/html": [
       "<pre>recommendations finished on 41000/60813 queries. users per second: 57740.8</pre>"
      ],
      "text/plain": [
       "recommendations finished on 41000/60813 queries. users per second: 57740.8"
      ]
     },
     "metadata": {},
     "output_type": "display_data"
    },
    {
     "data": {
      "text/html": [
       "<pre>recommendations finished on 42000/60813 queries. users per second: 57690.6</pre>"
      ],
      "text/plain": [
       "recommendations finished on 42000/60813 queries. users per second: 57690.6"
      ]
     },
     "metadata": {},
     "output_type": "display_data"
    },
    {
     "data": {
      "text/html": [
       "<pre>recommendations finished on 43000/60813 queries. users per second: 57797.3</pre>"
      ],
      "text/plain": [
       "recommendations finished on 43000/60813 queries. users per second: 57797.3"
      ]
     },
     "metadata": {},
     "output_type": "display_data"
    },
    {
     "data": {
      "text/html": [
       "<pre>recommendations finished on 44000/60813 queries. users per second: 57823.6</pre>"
      ],
      "text/plain": [
       "recommendations finished on 44000/60813 queries. users per second: 57823.6"
      ]
     },
     "metadata": {},
     "output_type": "display_data"
    },
    {
     "data": {
      "text/html": [
       "<pre>recommendations finished on 45000/60813 queries. users per second: 57923.2</pre>"
      ],
      "text/plain": [
       "recommendations finished on 45000/60813 queries. users per second: 57923.2"
      ]
     },
     "metadata": {},
     "output_type": "display_data"
    },
    {
     "data": {
      "text/html": [
       "<pre>recommendations finished on 46000/60813 queries. users per second: 58018.7</pre>"
      ],
      "text/plain": [
       "recommendations finished on 46000/60813 queries. users per second: 58018.7"
      ]
     },
     "metadata": {},
     "output_type": "display_data"
    },
    {
     "data": {
      "text/html": [
       "<pre>recommendations finished on 47000/60813 queries. users per second: 57896.2</pre>"
      ],
      "text/plain": [
       "recommendations finished on 47000/60813 queries. users per second: 57896.2"
      ]
     },
     "metadata": {},
     "output_type": "display_data"
    },
    {
     "data": {
      "text/html": [
       "<pre>recommendations finished on 48000/60813 queries. users per second: 57988.1</pre>"
      ],
      "text/plain": [
       "recommendations finished on 48000/60813 queries. users per second: 57988.1"
      ]
     },
     "metadata": {},
     "output_type": "display_data"
    },
    {
     "data": {
      "text/html": [
       "<pre>recommendations finished on 49000/60813 queries. users per second: 57939.7</pre>"
      ],
      "text/plain": [
       "recommendations finished on 49000/60813 queries. users per second: 57939.7"
      ]
     },
     "metadata": {},
     "output_type": "display_data"
    },
    {
     "data": {
      "text/html": [
       "<pre>recommendations finished on 50000/60813 queries. users per second: 57893.2</pre>"
      ],
      "text/plain": [
       "recommendations finished on 50000/60813 queries. users per second: 57893.2"
      ]
     },
     "metadata": {},
     "output_type": "display_data"
    },
    {
     "data": {
      "text/html": [
       "<pre>recommendations finished on 51000/60813 queries. users per second: 57914.1</pre>"
      ],
      "text/plain": [
       "recommendations finished on 51000/60813 queries. users per second: 57914.1"
      ]
     },
     "metadata": {},
     "output_type": "display_data"
    },
    {
     "data": {
      "text/html": [
       "<pre>recommendations finished on 52000/60813 queries. users per second: 57741.8</pre>"
      ],
      "text/plain": [
       "recommendations finished on 52000/60813 queries. users per second: 57741.8"
      ]
     },
     "metadata": {},
     "output_type": "display_data"
    },
    {
     "data": {
      "text/html": [
       "<pre>recommendations finished on 53000/60813 queries. users per second: 57890.6</pre>"
      ],
      "text/plain": [
       "recommendations finished on 53000/60813 queries. users per second: 57890.6"
      ]
     },
     "metadata": {},
     "output_type": "display_data"
    },
    {
     "data": {
      "text/html": [
       "<pre>recommendations finished on 54000/60813 queries. users per second: 57910.3</pre>"
      ],
      "text/plain": [
       "recommendations finished on 54000/60813 queries. users per second: 57910.3"
      ]
     },
     "metadata": {},
     "output_type": "display_data"
    },
    {
     "data": {
      "text/html": [
       "<pre>recommendations finished on 55000/60813 queries. users per second: 57868.4</pre>"
      ],
      "text/plain": [
       "recommendations finished on 55000/60813 queries. users per second: 57868.4"
      ]
     },
     "metadata": {},
     "output_type": "display_data"
    },
    {
     "data": {
      "text/html": [
       "<pre>recommendations finished on 56000/60813 queries. users per second: 57709.6</pre>"
      ],
      "text/plain": [
       "recommendations finished on 56000/60813 queries. users per second: 57709.6"
      ]
     },
     "metadata": {},
     "output_type": "display_data"
    },
    {
     "data": {
      "text/html": [
       "<pre>recommendations finished on 57000/60813 queries. users per second: 57499.1</pre>"
      ],
      "text/plain": [
       "recommendations finished on 57000/60813 queries. users per second: 57499.1"
      ]
     },
     "metadata": {},
     "output_type": "display_data"
    },
    {
     "data": {
      "text/html": [
       "<pre>recommendations finished on 58000/60813 queries. users per second: 57016.5</pre>"
      ],
      "text/plain": [
       "recommendations finished on 58000/60813 queries. users per second: 57016.5"
      ]
     },
     "metadata": {},
     "output_type": "display_data"
    },
    {
     "data": {
      "text/html": [
       "<pre>recommendations finished on 59000/60813 queries. users per second: 56449.9</pre>"
      ],
      "text/plain": [
       "recommendations finished on 59000/60813 queries. users per second: 56449.9"
      ]
     },
     "metadata": {},
     "output_type": "display_data"
    },
    {
     "data": {
      "text/html": [
       "<pre>recommendations finished on 60000/60813 queries. users per second: 55654.2</pre>"
      ],
      "text/plain": [
       "recommendations finished on 60000/60813 queries. users per second: 55654.2"
      ]
     },
     "metadata": {},
     "output_type": "display_data"
    }
   ],
   "source": [
    "recs = m.recommend()"
   ]
  },
  {
   "cell_type": "code",
   "execution_count": 37,
   "metadata": {
    "collapsed": false
   },
   "outputs": [
    {
     "name": "stdout",
     "output_type": "stream",
     "text": [
      "+---------------+------------+---------------+------+\n",
      "|    user_id    | productID  |     score     | rank |\n",
      "+---------------+------------+---------------+------+\n",
      "| AMO214LNFCEI4 | B00007E7JU | 3.31141676491 |  1   |\n",
      "| AMO214LNFCEI4 | B00004ZCJE | 3.11958451678 |  2   |\n",
      "| AMO214LNFCEI4 | B00007E7C8 | 2.75573099141 |  3   |\n",
      "| AMO214LNFCEI4 | B00000J1V5 | 2.74245504027 |  4   |\n",
      "| AMO214LNFCEI4 | B00005T3G0 | 2.74008262639 |  5   |\n",
      "| AMO214LNFCEI4 | B00007M1TZ | 2.71926412468 |  6   |\n",
      "| AMO214LNFCEI4 | B00007EDZG | 2.68274772649 |  7   |\n",
      "| AMO214LNFCEI4 | B0001FTVEK | 2.65095061546 |  8   |\n",
      "| AMO214LNFCEI4 | B000067RT6 | 2.63554868584 |  9   |\n",
      "| AMO214LNFCEI4 | B00006RVPW | 2.59916881209 |  10  |\n",
      "+---------------+------------+---------------+------+\n",
      "[608130 rows x 4 columns]\n",
      "Note: Only the head of the SFrame is printed.\n",
      "You can use print_rows(num_rows=m, num_columns=n) to print more rows and columns.\n"
     ]
    }
   ],
   "source": [
    "print recs"
   ]
  },
  {
   "cell_type": "code",
   "execution_count": 38,
   "metadata": {
    "collapsed": false
   },
   "outputs": [
    {
     "name": "stdout",
     "output_type": "stream",
     "text": [
      "+----------------+------------+---------------+------+\n",
      "|    user_id     | productID  |     score     | rank |\n",
      "+----------------+------------+---------------+------+\n",
      "| AMO214LNFCEI4  | B00007E7JU | 3.31141676491 |  1   |\n",
      "| AMO214LNFCEI4  | B00004ZCJE | 3.11958451678 |  2   |\n",
      "| AMO214LNFCEI4  | B00007E7C8 | 2.75573099141 |  3   |\n",
      "| AMO214LNFCEI4  | B00000J1V5 | 2.74245504027 |  4   |\n",
      "| AMO214LNFCEI4  | B00005T3G0 | 2.74008262639 |  5   |\n",
      "| AMO214LNFCEI4  | B00007M1TZ | 2.71926412468 |  6   |\n",
      "| AMO214LNFCEI4  | B00007EDZG | 2.68274772649 |  7   |\n",
      "| AMO214LNFCEI4  | B0001FTVEK | 2.65095061546 |  8   |\n",
      "| AMO214LNFCEI4  | B000067RT6 | 2.63554868584 |  9   |\n",
      "| AMO214LNFCEI4  | B00006RVPW | 2.59916881209 |  10  |\n",
      "| A3N7T0DY83Y4IG | B00007E7JU | 4.94108585005 |  1   |\n",
      "| A3N7T0DY83Y4IG | B00005T3G0 | 4.52271649723 |  2   |\n",
      "| A3N7T0DY83Y4IG | B00004ZCJE | 4.43465798085 |  3   |\n",
      "| A3N7T0DY83Y4IG | B00007M1TZ | 4.42182305937 |  4   |\n",
      "| A3N7T0DY83Y4IG | B00007EDZG |   4.40761513  |  5   |\n",
      "| A3N7T0DY83Y4IG | B00007E7C8 | 4.37216860538 |  6   |\n",
      "| A3N7T0DY83Y4IG | B0001FTVEK | 4.33230904227 |  7   |\n",
      "| A3N7T0DY83Y4IG | B000067RT6 | 4.30951682215 |  8   |\n",
      "| A3N7T0DY83Y4IG | B00006RVPW |  4.1847792316 |  9   |\n",
      "| A3N7T0DY83Y4IG | B00000J1V5 | 4.14425376539 |  10  |\n",
      "| A1H8PY3QHMQQA0 | B00006RVPW | 4.74592599755 |  1   |\n",
      "| A1H8PY3QHMQQA0 | B0001FTVEK | 4.58370289688 |  2   |\n",
      "| A1H8PY3QHMQQA0 | B0000A1G05 | 4.50525948887 |  3   |\n",
      "| A1H8PY3QHMQQA0 | B00007E7C8 | 4.30377299075 |  4   |\n",
      "| A1H8PY3QHMQQA0 | B00008Y0VN | 4.18446890002 |  5   |\n",
      "| A1H8PY3QHMQQA0 | B0001N3ZRQ | 4.16984913235 |  6   |\n",
      "| A1H8PY3QHMQQA0 | B00006B91Z | 4.13050982838 |  7   |\n",
      "| A1H8PY3QHMQQA0 | B000063UZW | 4.02007160073 |  8   |\n",
      "| A1H8PY3QHMQQA0 | B0001LS3EI | 4.00952741986 |  9   |\n",
      "| A1H8PY3QHMQQA0 | B00001P505 | 3.98953006153 |  10  |\n",
      "| A24EV6RXELQZ63 | B00007E7JU | 3.29745907073 |  1   |\n",
      "| A24EV6RXELQZ63 | B00004ZCJE | 3.07314626982 |  2   |\n",
      "| A24EV6RXELQZ63 | B00000J1V5 | 2.77695489412 |  3   |\n",
      "| A24EV6RXELQZ63 | B00007EDZG | 2.75288492923 |  4   |\n",
      "| A24EV6RXELQZ63 | B00007E7C8 |  2.7296125937 |  5   |\n",
      "| A24EV6RXELQZ63 | B0001FTVEK | 2.70406070833 |  6   |\n",
      "| A24EV6RXELQZ63 | B00005T3G0 | 2.69978839641 |  7   |\n",
      "| A24EV6RXELQZ63 | B00007M1TZ | 2.69651666765 |  8   |\n",
      "| A24EV6RXELQZ63 | B00009R6TA | 2.62843719607 |  9   |\n",
      "| A24EV6RXELQZ63 | B00001P4ZH | 2.60702673083 |  10  |\n",
      "| A2JXAZZI9PHK9Z | B00007E7JU | 5.90193740015 |  1   |\n",
      "| A2JXAZZI9PHK9Z | B00004ZCJE | 5.86231899743 |  2   |\n",
      "| A2JXAZZI9PHK9Z | B00007EDZG | 5.41604763751 |  3   |\n",
      "| A2JXAZZI9PHK9Z | B00006B7DA | 5.32432905321 |  4   |\n",
      "| A2JXAZZI9PHK9Z | B000067RT6 |  5.3140537787 |  5   |\n",
      "| A2JXAZZI9PHK9Z | B00006RVPW | 5.13469383602 |  6   |\n",
      "| A2JXAZZI9PHK9Z | B00007056H | 5.05552086716 |  7   |\n",
      "| A2JXAZZI9PHK9Z | B000065BP9 | 5.03329062944 |  8   |\n",
      "| A2JXAZZI9PHK9Z | B00005LEN4 | 5.03192934876 |  9   |\n",
      "| A2JXAZZI9PHK9Z | B00004WCID |  5.0233115304 |  10  |\n",
      "| A2P5U7BDKKT7FW | B00007E7JU | 3.50067575758 |  1   |\n",
      "| A2P5U7BDKKT7FW | B00004ZCJE | 3.37740894144 |  2   |\n",
      "| A2P5U7BDKKT7FW | B00007E7C8 | 2.91927370911 |  3   |\n",
      "| A2P5U7BDKKT7FW | B00007EDZG | 2.91529146319 |  4   |\n",
      "| A2P5U7BDKKT7FW | B00005T3G0 | 2.91273507958 |  5   |\n",
      "| A2P5U7BDKKT7FW | B00007M1TZ | 2.89566472655 |  6   |\n",
      "| A2P5U7BDKKT7FW | B00000J1V5 | 2.89376852398 |  7   |\n",
      "| A2P5U7BDKKT7FW | B00006RVPW | 2.86232972627 |  8   |\n",
      "| A2P5U7BDKKT7FW | B000067RT6 | 2.85662028675 |  9   |\n",
      "| A2P5U7BDKKT7FW | B0001FTVEK | 2.80289954429 |  10  |\n",
      "| AAZ084UMH8VZ2  | B00007E7JU | 6.19245359783 |  1   |\n",
      "| AAZ084UMH8VZ2  | B00020S7XK | 5.72143379336 |  2   |\n",
      "| AAZ084UMH8VZ2  | B00005LEN4 | 5.62167570477 |  3   |\n",
      "| AAZ084UMH8VZ2  | B00004ZCJE | 5.58211905246 |  4   |\n",
      "| AAZ084UMH8VZ2  | B000067RT6 | 5.45532989984 |  5   |\n",
      "| AAZ084UMH8VZ2  | B00004SB92 | 5.19566044693 |  6   |\n",
      "| AAZ084UMH8VZ2  | B00007M1TZ | 5.17467380052 |  7   |\n",
      "| AAZ084UMH8VZ2  | B000067O5G | 5.12144634609 |  8   |\n",
      "| AAZ084UMH8VZ2  | B00001ZWXA | 5.09073397999 |  9   |\n",
      "| AAZ084UMH8VZ2  | B00007E7C8 | 5.08039215689 |  10  |\n",
      "| AEZ3CR6BKIROJ  | B00004ZCJE | 5.12226731067 |  1   |\n",
      "| AEZ3CR6BKIROJ  | B00007E7JU | 5.10662708168 |  2   |\n",
      "| AEZ3CR6BKIROJ  | B00007EDZG | 4.50893690174 |  3   |\n",
      "| AEZ3CR6BKIROJ  | B00006B7DA | 4.45759040599 |  4   |\n",
      "| AEZ3CR6BKIROJ  | B00009R6TA | 4.39093113427 |  5   |\n",
      "| AEZ3CR6BKIROJ  | B00006RVPW | 4.38689002876 |  6   |\n",
      "| AEZ3CR6BKIROJ  | B00007M1TZ | 4.32908681517 |  7   |\n",
      "| AEZ3CR6BKIROJ  | B000065BP9 |  4.2767391551 |  8   |\n",
      "| AEZ3CR6BKIROJ  | B000067RT6 | 4.25679159646 |  9   |\n",
      "| AEZ3CR6BKIROJ  | B00000J1V5 |  4.1731978405 |  10  |\n",
      "| A3BY5KCNQZXV5U | B00004ZCJE | 6.13905576353 |  1   |\n",
      "| A3BY5KCNQZXV5U | B00017LSPI | 5.24356303101 |  2   |\n",
      "| A3BY5KCNQZXV5U | B000065BP9 | 5.04932770615 |  3   |\n",
      "| A3BY5KCNQZXV5U | B00000K4KH | 5.01604453211 |  4   |\n",
      "| A3BY5KCNQZXV5U | B00007E7C8 | 4.94395666306 |  5   |\n",
      "| A3BY5KCNQZXV5U | B00006RVPW | 4.94318819528 |  6   |\n",
      "| A3BY5KCNQZXV5U | B00007E7JU | 4.88587373977 |  7   |\n",
      "| A3BY5KCNQZXV5U | B00004SB92 | 4.86686859017 |  8   |\n",
      "| A3BY5KCNQZXV5U | B00006HYKM | 4.83263496046 |  9   |\n",
      "| A3BY5KCNQZXV5U | B00007EDM8 | 4.79058605914 |  10  |\n",
      "| A7S2B0I67WNWB  | B00007E7JU | 5.13108221178 |  1   |\n",
      "| A7S2B0I67WNWB  | B00004ZCJE | 4.81000214924 |  2   |\n",
      "| A7S2B0I67WNWB  | B00000J1V5 | 4.66356796508 |  3   |\n",
      "| A7S2B0I67WNWB  | B00001P4ZH | 4.64779329782 |  4   |\n",
      "| A7S2B0I67WNWB  | B00007E7C8 | 4.53515413885 |  5   |\n",
      "| A7S2B0I67WNWB  | B0001FTVEK | 4.50900784617 |  6   |\n",
      "| A7S2B0I67WNWB  | B00005T3G0 |  4.4498358119 |  7   |\n",
      "| A7S2B0I67WNWB  | B00006RVPW | 4.32702002411 |  8   |\n",
      "| A7S2B0I67WNWB  | B00007EDM8 | 4.29384640341 |  9   |\n",
      "| A7S2B0I67WNWB  | B000067RT6 | 4.27704164868 |  10  |\n",
      "| A3HICVLF4PFFMN | B00004ZCJE | 5.79373631363 |  1   |\n",
      "| A3HICVLF4PFFMN | B00007E7JU | 5.58894497638 |  2   |\n",
      "| A3HICVLF4PFFMN | B00001P4ZH | 5.52644023781 |  3   |\n",
      "| A3HICVLF4PFFMN | B00000J1V5 | 5.40533757692 |  4   |\n",
      "| A3HICVLF4PFFMN | B00005T3G0 |  5.3455797184 |  5   |\n",
      "| A3HICVLF4PFFMN | B00007E7C8 | 5.34118213241 |  6   |\n",
      "| A3HICVLF4PFFMN | B000067RT6 | 5.25387678032 |  7   |\n",
      "| A3HICVLF4PFFMN | B0000AI0N1 | 5.24084058886 |  8   |\n",
      "| A3HICVLF4PFFMN | B00007EDM8 | 5.19648454075 |  9   |\n",
      "| A3HICVLF4PFFMN | B0001Y7UAI |  5.0332451809 |  10  |\n",
      "| ANSKSPEEAKY7S  | B00004ZCJE | 5.62452283983 |  1   |\n",
      "| ANSKSPEEAKY7S  | B00007E7JU | 5.58871033524 |  2   |\n",
      "| ANSKSPEEAKY7S  | B00001P4ZH | 5.49513260012 |  3   |\n",
      "| ANSKSPEEAKY7S  | B00000J1V5 | 5.37746420984 |  4   |\n",
      "| ANSKSPEEAKY7S  | B00007EDM8 | 5.34470806008 |  5   |\n",
      "| ANSKSPEEAKY7S  | B00007E7C8 | 5.28706688171 |  6   |\n",
      "| ANSKSPEEAKY7S  | B00005T3G0 | 5.22986211364 |  7   |\n",
      "| ANSKSPEEAKY7S  | B00017LSPI | 5.12609732633 |  8   |\n",
      "| ANSKSPEEAKY7S  | B000065BP9 | 5.01892117148 |  9   |\n",
      "| ANSKSPEEAKY7S  | B00008Y0VN | 4.98830771928 |  10  |\n",
      "| A2QBZA4S1ROX9Q | B00004ZCJE | 4.16612343972 |  1   |\n",
      "| A2QBZA4S1ROX9Q | B00007E7JU | 4.15014061814 |  2   |\n",
      "| A2QBZA4S1ROX9Q | B00005T3G0 | 3.76967758422 |  3   |\n",
      "| A2QBZA4S1ROX9Q | B00000J1V5 | 3.68078068381 |  4   |\n",
      "| A2QBZA4S1ROX9Q | B00007E7C8 |  3.5786701191 |  5   |\n",
      "| A2QBZA4S1ROX9Q | B00001P4ZH | 3.57511148339 |  6   |\n",
      "| A2QBZA4S1ROX9Q | B00007EDZG | 3.57104936724 |  7   |\n",
      "| A2QBZA4S1ROX9Q | B00007M1TZ | 3.55780849343 |  8   |\n",
      "| A2QBZA4S1ROX9Q | B000067RT6 | 3.50823387985 |  9   |\n",
      "| A2QBZA4S1ROX9Q | B0001FTVEK | 3.48525840526 |  10  |\n",
      "| ANY6JUFM0GH8U  | B00007E7JU | 5.75440454965 |  1   |\n",
      "| ANY6JUFM0GH8U  | B00004ZCJE | 5.64336418097 |  2   |\n",
      "| ANY6JUFM0GH8U  | B00000J1V5 | 5.50444269662 |  3   |\n",
      "| ANY6JUFM0GH8U  | B00001P4ZH | 5.47948888426 |  4   |\n",
      "| ANY6JUFM0GH8U  | B00007E7C8 | 5.34027655905 |  5   |\n",
      "| ANY6JUFM0GH8U  | B00017LSPI | 5.31082809453 |  6   |\n",
      "| ANY6JUFM0GH8U  | B000067RT6 | 5.27667715137 |  7   |\n",
      "| ANY6JUFM0GH8U  | B000065BP9 | 5.23529312496 |  8   |\n",
      "| ANY6JUFM0GH8U  | B0000BZL1P | 5.17662653809 |  9   |\n",
      "| ANY6JUFM0GH8U  | B00020S7XK | 5.10742664819 |  10  |\n",
      "| AT09WGFUM934H  | B00007E7C8 |  5.8636082906 |  1   |\n",
      "| AT09WGFUM934H  | B000067RC4 | 5.69301800912 |  2   |\n",
      "| AT09WGFUM934H  | B00022VBAE | 5.09737448876 |  3   |\n",
      "| AT09WGFUM934H  | B0001MQSB2 | 4.87915318196 |  4   |\n",
      "| AT09WGFUM934H  | B0000A2QBP | 4.82126646226 |  5   |\n",
      "| AT09WGFUM934H  | B00006RVPW | 4.76564924901 |  6   |\n",
      "| AT09WGFUM934H  | B000063UZW | 4.74024646466 |  7   |\n",
      "| AT09WGFUM934H  | B0000AAAPF | 4.71245889847 |  8   |\n",
      "| AT09WGFUM934H  | B00009R6TA | 4.59617113059 |  9   |\n",
      "| AT09WGFUM934H  | B00004T8R2 | 4.57554083054 |  10  |\n",
      "| AGAKHE014LQFU  | B00007E7JU | 4.21996646111 |  1   |\n",
      "| AGAKHE014LQFU  | B00004ZCJE | 4.13875748699 |  2   |\n",
      "| AGAKHE014LQFU  | B00000J1V5 | 3.82552911823 |  3   |\n",
      "| AGAKHE014LQFU  | B00007E7C8 |  3.7867562968 |  4   |\n",
      "| AGAKHE014LQFU  | B00001P4ZH |  3.7721308667 |  5   |\n",
      "| AGAKHE014LQFU  | B00005T3G0 |  3.6384753186 |  6   |\n",
      "| AGAKHE014LQFU  | B00017LSPI | 3.59161814039 |  7   |\n",
      "| AGAKHE014LQFU  | B0001FTVEK | 3.59059264248 |  8   |\n",
      "| AGAKHE014LQFU  | B00007M1TZ | 3.53653629606 |  9   |\n",
      "| AGAKHE014LQFU  | B00007EDZG |  3.5033362705 |  10  |\n",
      "| A1S6B5QFWGVL5U | B00001P4ZH | 4.95966631656 |  1   |\n",
      "| A1S6B5QFWGVL5U | B00007E7JU | 4.58844623451 |  2   |\n",
      "| A1S6B5QFWGVL5U | B00000J1V5 | 4.57327607756 |  3   |\n",
      "| A1S6B5QFWGVL5U | B00004ZCJE | 4.50496449058 |  4   |\n",
      "| A1S6B5QFWGVL5U | B0001FTVEK | 4.32254431133 |  5   |\n",
      "| A1S6B5QFWGVL5U | B000065BP9 | 4.31521371489 |  6   |\n",
      "| A1S6B5QFWGVL5U | B00007E7C8 | 4.29010877495 |  7   |\n",
      "| A1S6B5QFWGVL5U | B00007IFED | 4.16227779274 |  8   |\n",
      "| A1S6B5QFWGVL5U | B00008Y0VN | 4.13404131417 |  9   |\n",
      "| A1S6B5QFWGVL5U | B00020S7XK | 4.08308864122 |  10  |\n",
      "| A20XXTXWF2TCPY | B00007E7JU | 4.39849666243 |  1   |\n",
      "| A20XXTXWF2TCPY | B00009R6TA | 4.08166069274 |  2   |\n",
      "| A20XXTXWF2TCPY | B00006RVPW | 4.00101548915 |  3   |\n",
      "| A20XXTXWF2TCPY | B00006B7DA | 3.90984431391 |  4   |\n",
      "| A20XXTXWF2TCPY | B00004T8R2 | 3.90231618767 |  5   |\n",
      "| A20XXTXWF2TCPY | B00005LEN4 | 3.89595532899 |  6   |\n",
      "| A20XXTXWF2TCPY | B00007EDZG | 3.85209602599 |  7   |\n",
      "| A20XXTXWF2TCPY | B00004ZCJE | 3.85034797077 |  8   |\n",
      "| A20XXTXWF2TCPY | B00004WCGF | 3.83297372346 |  9   |\n",
      "| A20XXTXWF2TCPY | B000067RT6 | 3.82928437476 |  10  |\n",
      "| A2IDCSC6NVONIZ | B00004Z5M1 |  5.4457864288 |  1   |\n",
      "| A2IDCSC6NVONIZ | B000067S60 | 5.41630513703 |  2   |\n",
      "| A2IDCSC6NVONIZ | B0001FTVEK | 5.14713199173 |  3   |\n",
      "| A2IDCSC6NVONIZ | B00006JPDI | 4.98093266522 |  4   |\n",
      "| A2IDCSC6NVONIZ | B00007E7JU | 4.94631953274 |  5   |\n",
      "| A2IDCSC6NVONIZ | B00008AWKZ | 4.91508324181 |  6   |\n",
      "| A2IDCSC6NVONIZ | B00006RVPW | 4.79486010705 |  7   |\n",
      "| A2IDCSC6NVONIZ | B00009WBYL | 4.73713178669 |  8   |\n",
      "| A2IDCSC6NVONIZ | B00020S7XK |  4.5765495423 |  9   |\n",
      "| A2IDCSC6NVONIZ | B00009R6TA | 4.50622017418 |  10  |\n",
      "| A1EDI0X3GI1SK7 | B00009R6TA | 4.10702788567 |  1   |\n",
      "| A1EDI0X3GI1SK7 | B00007E7JU | 4.08690482115 |  2   |\n",
      "| A1EDI0X3GI1SK7 | B00006B7DA | 4.08027079438 |  3   |\n",
      "| A1EDI0X3GI1SK7 | B00006RVPW | 4.01722889875 |  4   |\n",
      "| A1EDI0X3GI1SK7 | B00004WCGF | 4.00230154132 |  5   |\n",
      "| A1EDI0X3GI1SK7 | B00005LEN4 | 3.92381337022 |  6   |\n",
      "| A1EDI0X3GI1SK7 | B00000J1V5 | 3.91539266442 |  7   |\n",
      "| A1EDI0X3GI1SK7 | B0001FTVEK | 3.88831700121 |  8   |\n",
      "| A1EDI0X3GI1SK7 | B000067RT6 | 3.86712604498 |  9   |\n",
      "| A1EDI0X3GI1SK7 | B00004T8R2 | 3.84589054917 |  10  |\n",
      "| A3BMUBUC1N77U8 | B00007E7JU | 3.67443341499 |  1   |\n",
      "| A3BMUBUC1N77U8 | B00004ZCJE | 3.47252093737 |  2   |\n",
      "| A3BMUBUC1N77U8 | B00009R6TA | 3.27143329864 |  3   |\n",
      "| A3BMUBUC1N77U8 | B00006RVPW | 3.27015588169 |  4   |\n",
      "| A3BMUBUC1N77U8 | B000067RT6 | 3.25510362272 |  5   |\n",
      "| A3BMUBUC1N77U8 | B00000J1V5 | 3.24533305054 |  6   |\n",
      "| A3BMUBUC1N77U8 | B0001FTVEK | 3.23123100882 |  7   |\n",
      "| A3BMUBUC1N77U8 | B00007EDZG | 3.19863155966 |  8   |\n",
      "| A3BMUBUC1N77U8 | B00007E7C8 | 3.17043895011 |  9   |\n",
      "| A3BMUBUC1N77U8 | B00006B7DA | 3.16970816736 |  10  |\n",
      "| AVRFGGCCCR6QU  | B00007E7JU | 3.66432464605 |  1   |\n",
      "| AVRFGGCCCR6QU  | B00004ZCJE | 3.38164723401 |  2   |\n",
      "| AVRFGGCCCR6QU  | B00006RVPW | 3.21140587812 |  3   |\n",
      "| AVRFGGCCCR6QU  | B00000J1V5 | 3.21133694535 |  4   |\n",
      "| AVRFGGCCCR6QU  | B000067RT6 | 3.20184776669 |  5   |\n",
      "| AVRFGGCCCR6QU  | B00009R6TA | 3.17098382597 |  6   |\n",
      "| AVRFGGCCCR6QU  | B0001FTVEK | 3.15987506991 |  7   |\n",
      "| AVRFGGCCCR6QU  | B00006B7DA | 3.07958680873 |  8   |\n",
      "| AVRFGGCCCR6QU  | B00007EDZG | 3.06803381925 |  9   |\n",
      "| AVRFGGCCCR6QU  | B00004T8R2 | 3.02939621096 |  10  |\n",
      "| A3UOSOCRKS3WIH | B00007E7JU | 4.44588746612 |  1   |\n",
      "| A3UOSOCRKS3WIH | B00006RVPW | 4.06101428454 |  2   |\n",
      "| A3UOSOCRKS3WIH | B00009R6TA |  4.021700998  |  3   |\n",
      "| A3UOSOCRKS3WIH | B0001FTVEK | 3.98855136817 |  4   |\n",
      "| A3UOSOCRKS3WIH | B000067RT6 | 3.91798560803 |  5   |\n",
      "| A3UOSOCRKS3WIH | B00004T8R2 | 3.90957265084 |  6   |\n",
      "| A3UOSOCRKS3WIH | B00005LEN4 | 3.90380605047 |  7   |\n",
      "| A3UOSOCRKS3WIH | B00000J1V5 | 3.90176506822 |  8   |\n",
      "| A3UOSOCRKS3WIH | B00007EDZG | 3.89724819844 |  9   |\n",
      "| A3UOSOCRKS3WIH | B00006B7DA | 3.89530201738 |  10  |\n",
      "| A371ZZ95ZQEIZV | B00007E7JU | 3.56262590473 |  1   |\n",
      "| A371ZZ95ZQEIZV | B00009R6TA | 3.27697614317 |  2   |\n",
      "| A371ZZ95ZQEIZV | B00004ZCJE | 3.23875400906 |  3   |\n",
      "| A371ZZ95ZQEIZV | B0001FTVEK | 3.22940564637 |  4   |\n",
      "| A371ZZ95ZQEIZV | B00000J1V5 | 3.22587651496 |  5   |\n",
      "| A371ZZ95ZQEIZV | B00006B7DA | 3.21165165787 |  6   |\n",
      "| A371ZZ95ZQEIZV | B00007EDZG | 3.18632522707 |  7   |\n",
      "| A371ZZ95ZQEIZV | B00006RVPW | 3.15737826114 |  8   |\n",
      "| A371ZZ95ZQEIZV | B000067RT6 | 3.14385399704 |  9   |\n",
      "| A371ZZ95ZQEIZV | B00004T8R2 | 3.09030256157 |  10  |\n",
      "| A7060R14RJF3I  | B00007E7JU |  3.7981773067 |  1   |\n",
      "| A7060R14RJF3I  | B00007E7C8 | 3.51335832958 |  2   |\n",
      "| A7060R14RJF3I  | B00004ZCJE | 3.49047101026 |  3   |\n",
      "| A7060R14RJF3I  | B0001FTVEK | 3.47602347021 |  4   |\n",
      "| A7060R14RJF3I  | B00000J1V5 | 3.47456351404 |  5   |\n",
      "| A7060R14RJF3I  | B00006RVPW | 3.40929586177 |  6   |\n",
      "| A7060R14RJF3I  | B00009R6TA | 3.36000034695 |  7   |\n",
      "| A7060R14RJF3I  | B00001P4ZH | 3.31920645123 |  8   |\n",
      "| A7060R14RJF3I  | B000067RT6 | 3.31456825619 |  9   |\n",
      "| A7060R14RJF3I  | B00007EDZG | 3.28985462074 |  10  |\n",
      "| A26QCCO0101CO1 | B00007E7JU | 4.18689008539 |  1   |\n",
      "| A26QCCO0101CO1 | B00006RVPW | 4.04677357261 |  2   |\n",
      "| A26QCCO0101CO1 | B00009R6TA | 3.94284518545 |  3   |\n",
      "| A26QCCO0101CO1 | B000067RT6 | 3.89766675716 |  4   |\n",
      "| A26QCCO0101CO1 | B00004T8R2 |  3.858259638  |  5   |\n",
      "| A26QCCO0101CO1 | B00004ZCJE |  3.8418042857 |  6   |\n",
      "| A26QCCO0101CO1 | B0001FTVEK |  3.831986149  |  7   |\n",
      "| A26QCCO0101CO1 | B00006B7DA | 3.81437372153 |  8   |\n",
      "| A26QCCO0101CO1 | B00004WCGF | 3.81309681123 |  9   |\n",
      "| A26QCCO0101CO1 | B00000J1V5 | 3.80465959494 |  10  |\n",
      "| APBF796U7GUTV  | B00007E7JU | 4.09105085318 |  1   |\n",
      "| APBF796U7GUTV  | B00006RVPW | 4.03245829528 |  2   |\n",
      "| APBF796U7GUTV  | B00006B7DA | 4.00119610613 |  3   |\n",
      "| APBF796U7GUTV  | B00009R6TA | 3.98012061899 |  4   |\n",
      "| APBF796U7GUTV  | B000065BP9 | 3.83606486504 |  5   |\n",
      "| APBF796U7GUTV  | B00000J1V5 | 3.83339028542 |  6   |\n",
      "| APBF796U7GUTV  | B0001FTVEK | 3.83129306619 |  7   |\n",
      "| APBF796U7GUTV  | B00004ZCJE | 3.75134049838 |  8   |\n",
      "| APBF796U7GUTV  | B00004WCGF | 3.72707649057 |  9   |\n",
      "| APBF796U7GUTV  | B00004T8R2 | 3.72439964597 |  10  |\n",
      "| A2HLNXOYLMERTC | B00007E7JU | 4.11099927609 |  1   |\n",
      "| A2HLNXOYLMERTC | B00006RVPW | 3.88224086647 |  2   |\n",
      "| A2HLNXOYLMERTC | B00006B7DA | 3.87520206456 |  3   |\n",
      "| A2HLNXOYLMERTC | B0001FTVEK | 3.82262096291 |  4   |\n",
      "| A2HLNXOYLMERTC | B00004ZCJE | 3.79627249127 |  5   |\n",
      "| A2HLNXOYLMERTC | B00009R6TA | 3.79404142981 |  6   |\n",
      "| A2HLNXOYLMERTC | B000067RT6 | 3.78116530662 |  7   |\n",
      "| A2HLNXOYLMERTC | B00004T8R2 | 3.77802864199 |  8   |\n",
      "| A2HLNXOYLMERTC | B00000J1V5 | 3.75419182067 |  9   |\n",
      "| A2HLNXOYLMERTC | B00005LEN4 | 3.73358011728 |  10  |\n",
      "| A3CCITVF0WL6KE | B00007E7JU |  4.3124545004 |  1   |\n",
      "| A3CCITVF0WL6KE | B00006B7DA | 4.17186970373 |  2   |\n",
      "| A3CCITVF0WL6KE | B00004ZCJE | 4.15017502864 |  3   |\n",
      "| A3CCITVF0WL6KE | B00006RVPW | 4.13943407794 |  4   |\n",
      "| A3CCITVF0WL6KE | B00009R6TA | 4.08528239389 |  5   |\n",
      "| A3CCITVF0WL6KE | B000067RT6 | 4.02871895691 |  6   |\n",
      "| A3CCITVF0WL6KE | B00004WCGF | 4.02782256265 |  7   |\n",
      "| A3CCITVF0WL6KE | B0001FTVEK | 4.01252070924 |  8   |\n",
      "| A3CCITVF0WL6KE | B00007EDZG | 3.98247093817 |  9   |\n",
      "| A3CCITVF0WL6KE | B00000J1V5 | 3.93662331363 |  10  |\n",
      "| AYQNWE3AX4H08  | B00006B7DA | 4.12130810802 |  1   |\n",
      "| AYQNWE3AX4H08  | B00009R6TA | 4.05642892902 |  2   |\n",
      "| AYQNWE3AX4H08  | B00006RVPW | 4.02891047781 |  3   |\n",
      "| AYQNWE3AX4H08  | B00004WCGF | 3.98813046997 |  4   |\n",
      "| AYQNWE3AX4H08  | B00007E7JU | 3.97129355853 |  5   |\n",
      "| AYQNWE3AX4H08  | B00000J1V5 | 3.91048308199 |  6   |\n",
      "| AYQNWE3AX4H08  | B00004ZCJE | 3.85710137074 |  7   |\n",
      "| AYQNWE3AX4H08  | B000065BP9 | 3.84198208635 |  8   |\n",
      "| AYQNWE3AX4H08  | B0001FTVEK | 3.81580754106 |  9   |\n",
      "| AYQNWE3AX4H08  | B00004T8R2 | 3.80477728431 |  10  |\n",
      "| A3P24ZSF9IQRJJ | B00007E7JU | 3.93461223428 |  1   |\n",
      "| A3P24ZSF9IQRJJ | B00006B7DA | 3.92874546831 |  2   |\n",
      "| A3P24ZSF9IQRJJ | B00004ZCJE | 3.88673918431 |  3   |\n",
      "| A3P24ZSF9IQRJJ | B00006RVPW | 3.88226037209 |  4   |\n",
      "| A3P24ZSF9IQRJJ | B00009R6TA | 3.86558928077 |  5   |\n",
      "| A3P24ZSF9IQRJJ | B00000J1V5 | 3.74270768945 |  6   |\n",
      "| A3P24ZSF9IQRJJ | B000067RT6 | 3.70029677932 |  7   |\n",
      "| A3P24ZSF9IQRJJ | B00004Z5M1 | 3.69390161817 |  8   |\n",
      "| A3P24ZSF9IQRJJ | B00005LEN4 | 3.68777092283 |  9   |\n",
      "| A3P24ZSF9IQRJJ | B00004WCGF | 3.68093307798 |  10  |\n",
      "| A1JI3XL5ME8CWM | B00007E7JU | 3.60730259602 |  1   |\n",
      "| A1JI3XL5ME8CWM | B00004ZCJE |  3.3640202034 |  2   |\n",
      "| A1JI3XL5ME8CWM | B00006RVPW | 3.22173166757 |  3   |\n",
      "| A1JI3XL5ME8CWM | B00009R6TA | 3.20434979086 |  4   |\n",
      "| A1JI3XL5ME8CWM | B000067RT6 | 3.15896043663 |  5   |\n",
      "| A1JI3XL5ME8CWM | B00006B7DA | 3.13945079332 |  6   |\n",
      "| A1JI3XL5ME8CWM | B00007EDZG | 3.13222647195 |  7   |\n",
      "| A1JI3XL5ME8CWM | B00000J1V5 | 3.07095194345 |  8   |\n",
      "| A1JI3XL5ME8CWM | B00004T8R2 | 3.05833346133 |  9   |\n",
      "| A1JI3XL5ME8CWM | B0001FTVEK | 3.02348384743 |  10  |\n",
      "| AQBLWW13U66XD  | B00007E7JU | 4.15733800565 |  1   |\n",
      "| AQBLWW13U66XD  | B00006RVPW | 3.96314958965 |  2   |\n",
      "| AQBLWW13U66XD  | B00006B7DA | 3.95266018545 |  3   |\n",
      "| AQBLWW13U66XD  | B00009R6TA | 3.94735257064 |  4   |\n",
      "| AQBLWW13U66XD  | B0001FTVEK | 3.92457197343 |  5   |\n",
      "| AQBLWW13U66XD  | B00000J1V5 | 3.92091665899 |  6   |\n",
      "| AQBLWW13U66XD  | B00004WCGF | 3.86599395906 |  7   |\n",
      "| AQBLWW13U66XD  | B000067RT6 |  3.8523239318 |  8   |\n",
      "| AQBLWW13U66XD  | B00004ZCJE |  3.8364498738 |  9   |\n",
      "| AQBLWW13U66XD  | B00004T8R2 | 3.83490480219 |  10  |\n",
      "| AUKEU9CW56TT4  | B00007EDZG | 5.44006568675 |  1   |\n",
      "| AUKEU9CW56TT4  | B0001FTVEK | 5.42907435184 |  2   |\n",
      "| AUKEU9CW56TT4  | B00007KDVI | 5.40822974329 |  3   |\n",
      "| AUKEU9CW56TT4  | B00007E7JU | 5.17459951823 |  4   |\n",
      "| AUKEU9CW56TT4  | B00009XVCZ | 5.04931882506 |  5   |\n",
      "| AUKEU9CW56TT4  | B00007GQLU | 5.01942685728 |  6   |\n",
      "| AUKEU9CW56TT4  | B00006JN3G | 4.90966269856 |  7   |\n",
      "| AUKEU9CW56TT4  | 9983891212 | 4.89421061163 |  8   |\n",
      "| AUKEU9CW56TT4  | B00004ZCJE | 4.81856711691 |  9   |\n",
      "| AUKEU9CW56TT4  | B00009R96C | 4.76008156424 |  10  |\n",
      "| A23A7OH3AM0PDA | B00004Z5M1 | 3.87626061325 |  1   |\n",
      "| A23A7OH3AM0PDA | B00020S7XK | 3.48344353323 |  2   |\n",
      "| A23A7OH3AM0PDA | B00006B7DA | 3.35776886826 |  3   |\n",
      "| A23A7OH3AM0PDA | B000067RT6 | 3.35378909593 |  4   |\n",
      "| A23A7OH3AM0PDA | B00007E7JU |  3.3026404727 |  5   |\n",
      "| A23A7OH3AM0PDA | B00004ZCJE |  3.2915238749 |  6   |\n",
      "| A23A7OH3AM0PDA | B0001FTVEK | 3.07822728639 |  7   |\n",
      "| A23A7OH3AM0PDA | B0000AZK4G | 3.04638025646 |  8   |\n",
      "| A23A7OH3AM0PDA | B00004Z5H3 | 3.02150676136 |  9   |\n",
      "| A23A7OH3AM0PDA | B00006L4FX | 2.92559680824 |  10  |\n",
      "| A12AU3CNAWYO5D | B00007E7JU | 4.16115798538 |  1   |\n",
      "| A12AU3CNAWYO5D | B00006B7DA | 3.96264516299 |  2   |\n",
      "| A12AU3CNAWYO5D | B00009R6TA | 3.87434588855 |  3   |\n",
      "| A12AU3CNAWYO5D | B00004Z5M1 | 3.81383924668 |  4   |\n",
      "| A12AU3CNAWYO5D | B00006RVPW | 3.81101538723 |  5   |\n",
      "| A12AU3CNAWYO5D | B000067RT6 | 3.79615580027 |  6   |\n",
      "| A12AU3CNAWYO5D | B00000J1V5 | 3.79063643997 |  7   |\n",
      "| A12AU3CNAWYO5D | B0001FTVEK | 3.75829403584 |  8   |\n",
      "| A12AU3CNAWYO5D | B00007EDZG | 3.74406804626 |  9   |\n",
      "| A12AU3CNAWYO5D | B00004T8R2 |  3.7172983784 |  10  |\n",
      "| A5O0P0JV6PLU3  | B00006B7DA | 4.88498899822 |  1   |\n",
      "| A5O0P0JV6PLU3  | B00007056H | 4.81181273346 |  2   |\n",
      "| A5O0P0JV6PLU3  | B000067RT6 | 4.59096476917 |  3   |\n",
      "| A5O0P0JV6PLU3  | B00004Z5M1 | 4.19244906788 |  4   |\n",
      "| A5O0P0JV6PLU3  | B00007E7JU | 3.88837600236 |  5   |\n",
      "| A5O0P0JV6PLU3  | B00004WCID | 3.74541625862 |  6   |\n",
      "| A5O0P0JV6PLU3  | B00009EHJV | 3.70549020653 |  7   |\n",
      "| A5O0P0JV6PLU3  | B0000AZK4G | 3.68430504685 |  8   |\n",
      "| A5O0P0JV6PLU3  | B00004ZCJE | 3.67767018562 |  9   |\n",
      "| A5O0P0JV6PLU3  | B00009R6TA | 3.67443511372 |  10  |\n",
      "| A27X48PMUGK6U4 | B00007E7JU | 4.22184230124 |  1   |\n",
      "| A27X48PMUGK6U4 | B00006RVPW | 4.11589190101 |  2   |\n",
      "| A27X48PMUGK6U4 | B00005LEN4 | 4.00179660057 |  3   |\n",
      "| A27X48PMUGK6U4 | B0001FTVEK | 3.95351542269 |  4   |\n",
      "| A27X48PMUGK6U4 | B000067RT6 | 3.91852417325 |  5   |\n",
      "| A27X48PMUGK6U4 | B00009R6TA | 3.91722415124 |  6   |\n",
      "| A27X48PMUGK6U4 | B00020S7XK | 3.88306537007 |  7   |\n",
      "| A27X48PMUGK6U4 | B00004ZCJE |  3.8516604576 |  8   |\n",
      "| A27X48PMUGK6U4 | B00006B7DA | 3.82645991181 |  9   |\n",
      "| A27X48PMUGK6U4 | B00004T8R2 | 3.79850876068 |  10  |\n",
      "| A2KQDWZZUBBNOJ | B00007E7JU | 3.66288872545 |  1   |\n",
      "| A2KQDWZZUBBNOJ | B00004ZCJE | 3.40266925578 |  2   |\n",
      "| A2KQDWZZUBBNOJ | B00009R6TA | 3.35802308207 |  3   |\n",
      "| A2KQDWZZUBBNOJ | B00006RVPW | 3.28244892245 |  4   |\n",
      "| A2KQDWZZUBBNOJ | B0001FTVEK |  3.2348072875 |  5   |\n",
      "| A2KQDWZZUBBNOJ | B00000J1V5 | 3.22861382847 |  6   |\n",
      "| A2KQDWZZUBBNOJ | B00007EDZG | 3.19782737379 |  7   |\n",
      "| A2KQDWZZUBBNOJ | B00004T8R2 | 3.15178010349 |  8   |\n",
      "| A2KQDWZZUBBNOJ | B00006B7DA | 3.12092879896 |  9   |\n",
      "| A2KQDWZZUBBNOJ | B00007E7C8 | 3.11900911217 |  10  |\n",
      "| A27XULAA9X5ZGQ | B00007E7JU | 4.14362174009 |  1   |\n",
      "| A27XULAA9X5ZGQ | B00006RVPW | 4.05233677958 |  2   |\n",
      "| A27XULAA9X5ZGQ | B00006B7DA | 4.00177195405 |  3   |\n",
      "| A27XULAA9X5ZGQ | B00009R6TA |  3.9641961429 |  4   |\n",
      "| A27XULAA9X5ZGQ | B00004ZCJE | 3.94161034857 |  5   |\n",
      "| A27XULAA9X5ZGQ | B0001FTVEK | 3.91836657857 |  6   |\n",
      "| A27XULAA9X5ZGQ | B00004T8R2 | 3.87848713731 |  7   |\n",
      "| A27XULAA9X5ZGQ | B00004WCGF | 3.79139288997 |  8   |\n",
      "| A27XULAA9X5ZGQ | B00005LEN4 | 3.76451101636 |  9   |\n",
      "| A27XULAA9X5ZGQ | B00000J1V5 | 3.72892260288 |  10  |\n",
      "| A3IIGCFLKVFW8M | B00020S7XK | 4.48866624122 |  1   |\n",
      "| A3IIGCFLKVFW8M | B00005LEN4 | 4.47260475641 |  2   |\n",
      "| A3IIGCFLKVFW8M | B00007E7JU | 4.31097215896 |  3   |\n",
      "| A3IIGCFLKVFW8M | B000067RT6 | 4.25135806685 |  4   |\n",
      "| A3IIGCFLKVFW8M | B00009R6TA | 4.24759102349 |  5   |\n",
      "| A3IIGCFLKVFW8M | B000065BP9 |  4.1896992374 |  6   |\n",
      "| A3IIGCFLKVFW8M | B00006RVPW | 4.01646507268 |  7   |\n",
      "| A3IIGCFLKVFW8M | B00004WCGF | 3.91494405751 |  8   |\n",
      "| A3IIGCFLKVFW8M | B00007LTBA | 3.87976289277 |  9   |\n",
      "| A3IIGCFLKVFW8M | B00001ZWXA | 3.82325137143 |  10  |\n",
      "| A20VSTDILG9K7H | B00000J1V5 | 3.82557631021 |  1   |\n",
      "| A20VSTDILG9K7H | B0001FTVEK | 3.67414647823 |  2   |\n",
      "| A20VSTDILG9K7H | B00007E7JU | 3.58798015599 |  3   |\n",
      "| A20VSTDILG9K7H | B00004ZCJE | 3.50643508618 |  4   |\n",
      "| A20VSTDILG9K7H | B00007EDZG |  3.4862162817 |  5   |\n",
      "| A20VSTDILG9K7H | B00001P4ZH | 3.43216518049 |  6   |\n",
      "| A20VSTDILG9K7H | B00007EDM8 | 3.42219010477 |  7   |\n",
      "| A20VSTDILG9K7H | B00008Y0VN | 3.41731480246 |  8   |\n",
      "| A20VSTDILG9K7H | B00007E7C8 | 3.40909317618 |  9   |\n",
      "| A20VSTDILG9K7H | B000067SMH | 3.30506632214 |  10  |\n",
      "| A3VKO21KYDJQ2W | B00007E7JU | 3.08807452505 |  1   |\n",
      "| A3VKO21KYDJQ2W | B00004ZCJE | 2.88051612784 |  2   |\n",
      "| A3VKO21KYDJQ2W | B00000J1V5 | 2.61262184863 |  3   |\n",
      "| A3VKO21KYDJQ2W | B00007E7C8 | 2.58191723113 |  4   |\n",
      "| A3VKO21KYDJQ2W | B00007M1TZ | 2.53865817671 |  5   |\n",
      "| A3VKO21KYDJQ2W | B000067RT6 | 2.53377068525 |  6   |\n",
      "| A3VKO21KYDJQ2W | B0001FTVEK | 2.52895036822 |  7   |\n",
      "| A3VKO21KYDJQ2W | B00006RVPW | 2.52883765583 |  8   |\n",
      "| A3VKO21KYDJQ2W | B00005T3G0 | 2.52243969326 |  9   |\n",
      "| A3VKO21KYDJQ2W | B00009R6TA | 2.52149224763 |  10  |\n",
      "| A1MSO6LERG39PC | B00007E7JU | 4.02391390984 |  1   |\n",
      "| A1MSO6LERG39PC | B00009R6TA | 3.98805068915 |  2   |\n",
      "| A1MSO6LERG39PC | B00006B7DA |  3.9764391381 |  3   |\n",
      "| A1MSO6LERG39PC | B00006RVPW | 3.93377246444 |  4   |\n",
      "| A1MSO6LERG39PC | B00004WCGF | 3.89882167165 |  5   |\n",
      "| A1MSO6LERG39PC | B00004ZCJE | 3.88291290884 |  6   |\n",
      "| A1MSO6LERG39PC | B00004T8R2 | 3.76025225704 |  7   |\n",
      "| A1MSO6LERG39PC | B00000J1V5 | 3.73554961865 |  8   |\n",
      "| A1MSO6LERG39PC | B0001FTVEK | 3.72560178225 |  9   |\n",
      "| A1MSO6LERG39PC | B00007EDZG |  3.6698446173 |  10  |\n",
      "| A20Q4FIBCAG2ZV | B00007E7JU | 4.08572946971 |  1   |\n",
      "| A20Q4FIBCAG2ZV | B00006RVPW | 3.92650427406 |  2   |\n",
      "| A20Q4FIBCAG2ZV | B00009R6TA | 3.85882018988 |  3   |\n",
      "| A20Q4FIBCAG2ZV | B00005LEN4 |  3.8418364424 |  4   |\n",
      "| A20Q4FIBCAG2ZV | B00020S7XK | 3.78331719821 |  5   |\n",
      "| A20Q4FIBCAG2ZV | B00004T8R2 | 3.72486614173 |  6   |\n",
      "| A20Q4FIBCAG2ZV | B000067RT6 | 3.72288494294 |  7   |\n",
      "| A20Q4FIBCAG2ZV | B0001FTVEK | 3.70422088092 |  8   |\n",
      "| A20Q4FIBCAG2ZV | B00000J1V5 | 3.68578286951 |  9   |\n",
      "| A20Q4FIBCAG2ZV | B00004WCGF | 3.67060004657 |  10  |\n",
      "| A1980MGZXSGJP  | B00007E7JU |  4.0694178987 |  1   |\n",
      "| A1980MGZXSGJP  | B00009R6TA | 4.04532239323 |  2   |\n",
      "| A1980MGZXSGJP  | B00006B7DA | 4.00033197289 |  3   |\n",
      "| A1980MGZXSGJP  | B00006RVPW | 3.92756110912 |  4   |\n",
      "| A1980MGZXSGJP  | B00004ZCJE | 3.87372662609 |  5   |\n",
      "| A1980MGZXSGJP  | B000067RT6 | 3.85109560673 |  6   |\n",
      "| A1980MGZXSGJP  | B00000J1V5 | 3.79715237503 |  7   |\n",
      "| A1980MGZXSGJP  | B0001FTVEK | 3.74985555296 |  8   |\n",
      "| A1980MGZXSGJP  | B00004WCGF |  3.7221786726 |  9   |\n",
      "| A1980MGZXSGJP  | B00004T8R2 | 3.69338024144 |  10  |\n",
      "| A1GLL5CJ1SFAMS | B00007E7JU | 4.10817803179 |  1   |\n",
      "| A1GLL5CJ1SFAMS | B00009R6TA | 4.08627004658 |  2   |\n",
      "| A1GLL5CJ1SFAMS | B0001FTVEK | 3.95998848711 |  3   |\n",
      "| A1GLL5CJ1SFAMS | B00006RVPW | 3.90297116076 |  4   |\n",
      "| A1GLL5CJ1SFAMS | B00007EDZG | 3.86582956945 |  5   |\n",
      "| A1GLL5CJ1SFAMS | B00005LEN4 | 3.85169230138 |  6   |\n",
      "| A1GLL5CJ1SFAMS | B00000J1V5 | 3.84063909685 |  7   |\n",
      "| A1GLL5CJ1SFAMS | B00004T8R2 | 3.82307882344 |  8   |\n",
      "| A1GLL5CJ1SFAMS | B00004WCGF | 3.81728450691 |  9   |\n",
      "| A1GLL5CJ1SFAMS | B00006B7DA | 3.75148237978 |  10  |\n",
      "| A2683OJ85CLWFA | B00007E7JU | 4.13188631569 |  1   |\n",
      "| A2683OJ85CLWFA | B00009R6TA | 4.08452273642 |  2   |\n",
      "| A2683OJ85CLWFA | B00006RVPW | 3.99129183327 |  3   |\n",
      "| A2683OJ85CLWFA | B00006B7DA |  3.9708126608 |  4   |\n",
      "| A2683OJ85CLWFA | B00004T8R2 | 3.90061454212 |  5   |\n",
      "| A2683OJ85CLWFA | B00004WCGF | 3.89636574422 |  6   |\n",
      "| A2683OJ85CLWFA | B0001FTVEK | 3.84801877772 |  7   |\n",
      "| A2683OJ85CLWFA | B00007EDZG | 3.83151550328 |  8   |\n",
      "| A2683OJ85CLWFA | B00000J1V5 | 3.79386545454 |  9   |\n",
      "| A2683OJ85CLWFA | B000067RT6 | 3.78413398301 |  10  |\n",
      "| A3M6S7Y1FNPOLD | B00004ZCJE | 3.10099532192 |  1   |\n",
      "| A3M6S7Y1FNPOLD | B00007E7JU | 3.07186466937 |  2   |\n",
      "| A3M6S7Y1FNPOLD | B00007E7C8 | 2.72408566361 |  3   |\n",
      "| A3M6S7Y1FNPOLD | B00000J1V5 | 2.71825322991 |  4   |\n",
      "| A3M6S7Y1FNPOLD | B00007M1TZ | 2.67628300672 |  5   |\n",
      "| A3M6S7Y1FNPOLD | B000067RT6 | 2.62400305753 |  6   |\n",
      "| A3M6S7Y1FNPOLD | B00007EDZG | 2.55605760699 |  7   |\n",
      "| A3M6S7Y1FNPOLD | B0001FTVEK | 2.55505180841 |  8   |\n",
      "| A3M6S7Y1FNPOLD | B00001P4ZH | 2.55127934103 |  9   |\n",
      "| A3M6S7Y1FNPOLD | B00006RVPW |  2.5253275681 |  10  |\n",
      "| AOU1TM9UA1BZF  | B00009R6TA | 4.06415316944 |  1   |\n",
      "| AOU1TM9UA1BZF  | B00006RVPW | 4.00606793647 |  2   |\n",
      "| AOU1TM9UA1BZF  | B00006B7DA | 3.87050614243 |  3   |\n",
      "| AOU1TM9UA1BZF  | B00007E7C8 | 3.83469784742 |  4   |\n",
      "| AOU1TM9UA1BZF  | B000067RT6 | 3.83259881025 |  5   |\n",
      "| AOU1TM9UA1BZF  | B00004ZCJE | 3.82998723273 |  6   |\n",
      "| AOU1TM9UA1BZF  | B00001WRSJ | 3.82564780598 |  7   |\n",
      "| AOU1TM9UA1BZF  | B00020S7XK | 3.77767506724 |  8   |\n",
      "| AOU1TM9UA1BZF  | B00005LEN4 | 3.75492093449 |  9   |\n",
      "| AOU1TM9UA1BZF  | B00004T8R2 | 3.64584449415 |  10  |\n",
      "+----------------+------------+---------------+------+\n",
      "[608130 rows x 4 columns]\n",
      "\n"
     ]
    }
   ],
   "source": [
    "recs.print_rows(500,4)"
   ]
  },
  {
   "cell_type": "code",
   "execution_count": 39,
   "metadata": {
    "collapsed": false
   },
   "outputs": [
    {
     "data": {
      "text/plain": [
       "{'intercept': 4.231182311823113, 'productID': Columns:\n",
       " \tproductID\tstr\n",
       " \tlinear_terms\tfloat\n",
       " \tfactors\tarray\n",
       " \n",
       " Rows: 4181\n",
       " \n",
       " Data:\n",
       " +------------+-----------------+-------------------------------+\n",
       " | productID  |   linear_terms  |            factors            |\n",
       " +------------+-----------------+-------------------------------+\n",
       " | 0528881469 |  -1.95527982712 | [0.0118840225041, 0.021096... |\n",
       " | 0594451647 |  -1.66871070862 | [-0.142183750868, -0.14933... |\n",
       " | 0594481813 |  -1.5804361105  | [0.0346643291414, -0.00351... |\n",
       " | 0972683275 | -0.869816303253 | [-0.549743652344, -0.46618... |\n",
       " | 1400501466 |  -1.71739304066 | [0.171033397317, -0.096425... |\n",
       " | 1400501520 |  -1.71177363396 | [0.492970108986, 0.2808794... |\n",
       " | 1400501776 |   -1.594140172  | [0.294516086578, -0.291876... |\n",
       " | 1400532620 |  -1.75148379803 | [-0.0354724265635, 0.06799... |\n",
       " | 1400532655 |  -1.19976866245 | [0.246841385961, 0.1833005... |\n",
       " | 140053271X |  -1.43857777119 | [0.0539919734001, 0.254038... |\n",
       " +------------+-----------------+-------------------------------+\n",
       " [4181 rows x 3 columns]\n",
       " Note: Only the head of the SFrame is printed.\n",
       " You can use print_rows(num_rows=m, num_columns=n) to print more rows and columns., 'user_id': Columns:\n",
       " \tuser_id\tstr\n",
       " \tlinear_terms\tfloat\n",
       " \tfactors\tarray\n",
       " \n",
       " Rows: 60813\n",
       " \n",
       " Data:\n",
       " +----------------+-----------------+-------------------------------+\n",
       " |    user_id     |   linear_terms  |            factors            |\n",
       " +----------------+-----------------+-------------------------------+\n",
       " | AMO214LNFCEI4  |  -1.15511822701 | [0.00166037725285, -0.0042... |\n",
       " | A3N7T0DY83Y4IG |  0.41213029623  | [0.0248544868082, 0.038196... |\n",
       " | A1H8PY3QHMQQA0 | -0.416413784027 | [-0.019217858091, 0.197560... |\n",
       " | A24EV6RXELQZ63 |  -1.15497004986 | [-0.00369157735258, -0.000... |\n",
       " | A2JXAZZI9PHK9Z |  1.27688157558  | [-0.0975730121136, -0.1181... |\n",
       " | A2P5U7BDKKT7FW | -0.943526208401 | [-0.0243192147464, -0.0124... |\n",
       " | AAZ084UMH8VZ2  |  1.05091655254  | [-0.0538980439305, -0.1340... |\n",
       " | AEZ3CR6BKIROJ  |  0.512329161167 | [-0.102356344461, -0.09219... |\n",
       " | A3BY5KCNQZXV5U |  0.880204379559 | [-0.0728440657258, -0.0258... |\n",
       " | A7S2B0I67WNWB  |  0.569936037064 | [-0.00520861241966, -0.002... |\n",
       " +----------------+-----------------+-------------------------------+\n",
       " [60813 rows x 3 columns]\n",
       " Note: Only the head of the SFrame is printed.\n",
       " You can use print_rows(num_rows=m, num_columns=n) to print more rows and columns.}"
      ]
     },
     "execution_count": 39,
     "metadata": {},
     "output_type": "execute_result"
    }
   ],
   "source": [
    "m['coefficients']"
   ]
  },
  {
   "cell_type": "code",
   "execution_count": null,
   "metadata": {
    "collapsed": true
   },
   "outputs": [],
   "source": []
  }
 ],
 "metadata": {
  "kernelspec": {
   "display_name": "Python 2",
   "language": "python",
   "name": "python2"
  },
  "language_info": {
   "codemirror_mode": {
    "name": "ipython",
    "version": 2
   },
   "file_extension": ".py",
   "mimetype": "text/x-python",
   "name": "python",
   "nbconvert_exporter": "python",
   "pygments_lexer": "ipython2",
   "version": "2.7.13"
  }
 },
 "nbformat": 4,
 "nbformat_minor": 0
}
